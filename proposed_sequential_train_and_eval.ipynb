{
  "cells": [
    {
      "cell_type": "markdown",
      "source": [
        "\n",
        "\n",
        "---\n",
        "\n",
        "#### Note: Throughout the thesis code/notebooks, to reproduce different results and methods, code cells are edited and desired paramteres entered and re-ran. Code is commented out and in at times when we want to use different variables etc, this saves having lots of repeated code clogging up the notebooks. Output from cells is not always maintained.\n",
        "\n",
        "\n",
        "---\n",
        "\n"
      ],
      "metadata": {
        "id": "WIw_a2J8eavX"
      }
    },
    {
      "cell_type": "markdown",
      "metadata": {
        "id": "Nn83Q9p2tHZh"
      },
      "source": [
        "\n",
        "\n",
        "---\n",
        "# Imports & Installations\n",
        "---\n",
        "\n",
        "\n"
      ]
    },
    {
      "cell_type": "code",
      "execution_count": 1,
      "metadata": {
        "colab": {
          "base_uri": "https://localhost:8080/"
        },
        "id": "4RoqpKTgiFHP",
        "outputId": "ceeb8256-fd98-4794-86af-9f580935eb1f"
      },
      "outputs": [
        {
          "output_type": "stream",
          "name": "stdout",
          "text": [
            "Collecting tensorflow-io\n",
            "  Downloading tensorflow_io-0.25.0-cp37-cp37m-manylinux_2_12_x86_64.manylinux2010_x86_64.whl (23.4 MB)\n",
            "\u001b[K     |████████████████████████████████| 23.4 MB 1.4 MB/s \n",
            "\u001b[?25hCollecting tensorflow-io-gcs-filesystem==0.25.0\n",
            "  Downloading tensorflow_io_gcs_filesystem-0.25.0-cp37-cp37m-manylinux_2_12_x86_64.manylinux2010_x86_64.whl (2.1 MB)\n",
            "\u001b[K     |████████████████████████████████| 2.1 MB 43.2 MB/s \n",
            "\u001b[?25hInstalling collected packages: tensorflow-io-gcs-filesystem, tensorflow-io\n",
            "  Attempting uninstall: tensorflow-io-gcs-filesystem\n",
            "    Found existing installation: tensorflow-io-gcs-filesystem 0.24.0\n",
            "    Uninstalling tensorflow-io-gcs-filesystem-0.24.0:\n",
            "      Successfully uninstalled tensorflow-io-gcs-filesystem-0.24.0\n",
            "\u001b[31mERROR: pip's dependency resolver does not currently take into account all the packages that are installed. This behaviour is the source of the following dependency conflicts.\n",
            "tensorflow 2.8.0 requires tf-estimator-nightly==2.8.0.dev2021122109, which is not installed.\u001b[0m\n",
            "Successfully installed tensorflow-io-0.25.0 tensorflow-io-gcs-filesystem-0.25.0\n",
            "Collecting pydub\n",
            "  Downloading pydub-0.25.1-py2.py3-none-any.whl (32 kB)\n",
            "Installing collected packages: pydub\n",
            "Successfully installed pydub-0.25.1\n",
            "Collecting wget\n",
            "  Downloading wget-3.2.zip (10 kB)\n",
            "Building wheels for collected packages: wget\n",
            "  Building wheel for wget (setup.py) ... \u001b[?25l\u001b[?25hdone\n",
            "  Created wheel for wget: filename=wget-3.2-py3-none-any.whl size=9675 sha256=159269e2a66a6c95c05da98295a235a85de93de79d660b1eec8b17b43c2e5c55\n",
            "  Stored in directory: /root/.cache/pip/wheels/a1/b6/7c/0e63e34eb06634181c63adacca38b79ff8f35c37e3c13e3c02\n",
            "Successfully built wget\n",
            "Installing collected packages: wget\n",
            "Successfully installed wget-3.2\n",
            "Collecting tensorflow-addons\n",
            "  Downloading tensorflow_addons-0.16.1-cp37-cp37m-manylinux_2_12_x86_64.manylinux2010_x86_64.whl (1.1 MB)\n",
            "\u001b[K     |████████████████████████████████| 1.1 MB 4.3 MB/s \n",
            "\u001b[?25hRequirement already satisfied: typeguard>=2.7 in /usr/local/lib/python3.7/dist-packages (from tensorflow-addons) (2.7.1)\n",
            "Installing collected packages: tensorflow-addons\n",
            "Successfully installed tensorflow-addons-0.16.1\n",
            "Collecting keras_tuner\n",
            "  Downloading keras_tuner-1.1.2-py3-none-any.whl (133 kB)\n",
            "\u001b[K     |████████████████████████████████| 133 kB 4.2 MB/s \n",
            "\u001b[?25hRequirement already satisfied: packaging in /usr/local/lib/python3.7/dist-packages (from keras_tuner) (21.3)\n",
            "Requirement already satisfied: tensorboard in /usr/local/lib/python3.7/dist-packages (from keras_tuner) (2.8.0)\n",
            "Requirement already satisfied: ipython in /usr/local/lib/python3.7/dist-packages (from keras_tuner) (5.5.0)\n",
            "Collecting kt-legacy\n",
            "  Downloading kt_legacy-1.0.4-py3-none-any.whl (9.6 kB)\n",
            "Requirement already satisfied: requests in /usr/local/lib/python3.7/dist-packages (from keras_tuner) (2.23.0)\n",
            "Requirement already satisfied: numpy in /usr/local/lib/python3.7/dist-packages (from keras_tuner) (1.21.6)\n",
            "Requirement already satisfied: pickleshare in /usr/local/lib/python3.7/dist-packages (from ipython->keras_tuner) (0.7.5)\n",
            "Requirement already satisfied: traitlets>=4.2 in /usr/local/lib/python3.7/dist-packages (from ipython->keras_tuner) (5.1.1)\n",
            "Requirement already satisfied: decorator in /usr/local/lib/python3.7/dist-packages (from ipython->keras_tuner) (4.4.2)\n",
            "Requirement already satisfied: pygments in /usr/local/lib/python3.7/dist-packages (from ipython->keras_tuner) (2.6.1)\n",
            "Requirement already satisfied: simplegeneric>0.8 in /usr/local/lib/python3.7/dist-packages (from ipython->keras_tuner) (0.8.1)\n",
            "Requirement already satisfied: pexpect in /usr/local/lib/python3.7/dist-packages (from ipython->keras_tuner) (4.8.0)\n",
            "Requirement already satisfied: prompt-toolkit<2.0.0,>=1.0.4 in /usr/local/lib/python3.7/dist-packages (from ipython->keras_tuner) (1.0.18)\n",
            "Requirement already satisfied: setuptools>=18.5 in /usr/local/lib/python3.7/dist-packages (from ipython->keras_tuner) (57.4.0)\n",
            "Requirement already satisfied: six>=1.9.0 in /usr/local/lib/python3.7/dist-packages (from prompt-toolkit<2.0.0,>=1.0.4->ipython->keras_tuner) (1.15.0)\n",
            "Requirement already satisfied: wcwidth in /usr/local/lib/python3.7/dist-packages (from prompt-toolkit<2.0.0,>=1.0.4->ipython->keras_tuner) (0.2.5)\n",
            "Requirement already satisfied: pyparsing!=3.0.5,>=2.0.2 in /usr/local/lib/python3.7/dist-packages (from packaging->keras_tuner) (3.0.8)\n",
            "Requirement already satisfied: ptyprocess>=0.5 in /usr/local/lib/python3.7/dist-packages (from pexpect->ipython->keras_tuner) (0.7.0)\n",
            "Requirement already satisfied: certifi>=2017.4.17 in /usr/local/lib/python3.7/dist-packages (from requests->keras_tuner) (2021.10.8)\n",
            "Requirement already satisfied: urllib3!=1.25.0,!=1.25.1,<1.26,>=1.21.1 in /usr/local/lib/python3.7/dist-packages (from requests->keras_tuner) (1.24.3)\n",
            "Requirement already satisfied: chardet<4,>=3.0.2 in /usr/local/lib/python3.7/dist-packages (from requests->keras_tuner) (3.0.4)\n",
            "Requirement already satisfied: idna<3,>=2.5 in /usr/local/lib/python3.7/dist-packages (from requests->keras_tuner) (2.10)\n",
            "Requirement already satisfied: tensorboard-plugin-wit>=1.6.0 in /usr/local/lib/python3.7/dist-packages (from tensorboard->keras_tuner) (1.8.1)\n",
            "Requirement already satisfied: google-auth-oauthlib<0.5,>=0.4.1 in /usr/local/lib/python3.7/dist-packages (from tensorboard->keras_tuner) (0.4.6)\n",
            "Requirement already satisfied: wheel>=0.26 in /usr/local/lib/python3.7/dist-packages (from tensorboard->keras_tuner) (0.37.1)\n",
            "Requirement already satisfied: werkzeug>=0.11.15 in /usr/local/lib/python3.7/dist-packages (from tensorboard->keras_tuner) (1.0.1)\n",
            "Requirement already satisfied: absl-py>=0.4 in /usr/local/lib/python3.7/dist-packages (from tensorboard->keras_tuner) (1.0.0)\n",
            "Requirement already satisfied: tensorboard-data-server<0.7.0,>=0.6.0 in /usr/local/lib/python3.7/dist-packages (from tensorboard->keras_tuner) (0.6.1)\n",
            "Requirement already satisfied: google-auth<3,>=1.6.3 in /usr/local/lib/python3.7/dist-packages (from tensorboard->keras_tuner) (1.35.0)\n",
            "Requirement already satisfied: markdown>=2.6.8 in /usr/local/lib/python3.7/dist-packages (from tensorboard->keras_tuner) (3.3.6)\n",
            "Requirement already satisfied: grpcio>=1.24.3 in /usr/local/lib/python3.7/dist-packages (from tensorboard->keras_tuner) (1.44.0)\n",
            "Requirement already satisfied: protobuf>=3.6.0 in /usr/local/lib/python3.7/dist-packages (from tensorboard->keras_tuner) (3.17.3)\n",
            "Requirement already satisfied: rsa<5,>=3.1.4 in /usr/local/lib/python3.7/dist-packages (from google-auth<3,>=1.6.3->tensorboard->keras_tuner) (4.8)\n",
            "Requirement already satisfied: cachetools<5.0,>=2.0.0 in /usr/local/lib/python3.7/dist-packages (from google-auth<3,>=1.6.3->tensorboard->keras_tuner) (4.2.4)\n",
            "Requirement already satisfied: pyasn1-modules>=0.2.1 in /usr/local/lib/python3.7/dist-packages (from google-auth<3,>=1.6.3->tensorboard->keras_tuner) (0.2.8)\n",
            "Requirement already satisfied: requests-oauthlib>=0.7.0 in /usr/local/lib/python3.7/dist-packages (from google-auth-oauthlib<0.5,>=0.4.1->tensorboard->keras_tuner) (1.3.1)\n",
            "Requirement already satisfied: importlib-metadata>=4.4 in /usr/local/lib/python3.7/dist-packages (from markdown>=2.6.8->tensorboard->keras_tuner) (4.11.3)\n",
            "Requirement already satisfied: typing-extensions>=3.6.4 in /usr/local/lib/python3.7/dist-packages (from importlib-metadata>=4.4->markdown>=2.6.8->tensorboard->keras_tuner) (4.2.0)\n",
            "Requirement already satisfied: zipp>=0.5 in /usr/local/lib/python3.7/dist-packages (from importlib-metadata>=4.4->markdown>=2.6.8->tensorboard->keras_tuner) (3.8.0)\n",
            "Requirement already satisfied: pyasn1<0.5.0,>=0.4.6 in /usr/local/lib/python3.7/dist-packages (from pyasn1-modules>=0.2.1->google-auth<3,>=1.6.3->tensorboard->keras_tuner) (0.4.8)\n",
            "Requirement already satisfied: oauthlib>=3.0.0 in /usr/local/lib/python3.7/dist-packages (from requests-oauthlib>=0.7.0->google-auth-oauthlib<0.5,>=0.4.1->tensorboard->keras_tuner) (3.2.0)\n",
            "Installing collected packages: kt-legacy, keras-tuner\n",
            "Successfully installed keras-tuner-1.1.2 kt-legacy-1.0.4\n"
          ]
        }
      ],
      "source": [
        "!pip install tensorflow-io\n",
        "!pip install pydub\n",
        "!pip install wget\n",
        "!pip install tensorflow-addons\n",
        "!pip install keras_tuner"
      ]
    },
    {
      "cell_type": "code",
      "execution_count": 2,
      "metadata": {
        "id": "6Wzrm2XSgJ0-"
      },
      "outputs": [],
      "source": [
        "from google.colab import drive \n",
        "import numpy as np\n",
        "import pandas as pd\n",
        "import librosa\n",
        "import tensorflow as tf\n",
        "import tensorflow_hub as hub\n",
        "import pydub\n",
        "import json\n",
        "import tensorflow_io as tfio\n",
        "import wget\n",
        "import keras_tuner as kt\n",
        "import matplotlib.pyplot as plt\n",
        "from sklearn.metrics import confusion_matrix, ConfusionMatrixDisplay\n",
        "\n",
        "from sklearn.decomposition import PCA\n",
        "\n",
        "from sklearn import metrics\n",
        "from sklearn.model_selection import train_test_split, GridSearchCV, StratifiedKFold"
      ]
    },
    {
      "cell_type": "code",
      "execution_count": 3,
      "metadata": {
        "colab": {
          "base_uri": "https://localhost:8080/"
        },
        "id": "0CWNXWAvgRNl",
        "outputId": "86d4d865-1561-4631-d6fe-2dcc5398b7fe"
      },
      "outputs": [
        {
          "output_type": "stream",
          "name": "stdout",
          "text": [
            "Mounted at /content/gdrive\n"
          ]
        }
      ],
      "source": [
        "drive.mount('/content/gdrive', force_remount=True)"
      ]
    },
    {
      "cell_type": "markdown",
      "metadata": {
        "id": "qqq1Rvo1vWeE"
      },
      "source": [
        "\n",
        "\n",
        "---\n",
        "\n",
        "# Functions\n",
        "\n",
        "\n",
        "---\n",
        "\n"
      ]
    },
    {
      "cell_type": "code",
      "execution_count": 4,
      "metadata": {
        "id": "3ymkjOzWh2sR"
      },
      "outputs": [],
      "source": [
        "def read_audio_as_tensor(f, module, snippet_size, offset, normalized=False, frame_rate=16000):\n",
        "    \"\"\"\n",
        "      Input: podcast audio episode in mp3\n",
        "\n",
        "        Read with pydub and set to mono\n",
        "        Extract snippet\n",
        "        Convert to tf.tensor\n",
        "\n",
        "      Returns: Normalized tensor audio snippet\n",
        "    \"\"\"\n",
        "    try:\n",
        "      # Preprocess with pydub\n",
        "      a = pydub.AudioSegment.from_mp3(f)\n",
        "      a = a.set_frame_rate(frame_rate)\n",
        "      a = a.set_channels(1)\n",
        "\n",
        "      # Stitch snippets of audio (leading N seconds and N seconds from middle)\n",
        "      # Same input as baseline but needs to be stitched to combat GPU memory\n",
        "      start1 = a[:(100*1000)]\n",
        "      start2 = a[(100*1000):(150*1000)]\n",
        "      midpoint = len(a)//2\n",
        "      middle1 = a[midpoint : midpoint + (50*1000)]\n",
        "      middle2 = a[midpoint + (50*1000) : midpoint + (150*1000)]\n",
        "\n",
        "      # Export audio sample for preprocessing\n",
        "      f = start1 + start2 + middle1 + middle2\n",
        "      y = np.array(f.get_array_of_samples())\n",
        "\n",
        "      if normalized:\n",
        "          return tf.convert_to_tensor( (np.float32(y) / 2**15), dtype=tf.float32)\n",
        "      else:\n",
        "          return tf.convert_to_tensor(y, dtype=tf.float32)\n",
        "\n",
        "    except Exception as e:\n",
        "      print(e)\n",
        "      return None\n",
        "\n",
        "\n",
        "def create_episode_map(file):\n",
        "  \"\"\" \n",
        "    Create a map from IDs -> urls, titles\n",
        "    The popularity train/test sets don't have the URLs.\n",
        "    We use the map to get urls for a give episode from the full set in\n",
        "    podcast_episodes_sb dataset.\n",
        "\n",
        "    Returns: a map of IDs that exist in both datasets\n",
        "  \"\"\"\n",
        "\n",
        "  data = [json.loads(line) for line in open(file, 'r')]\n",
        "\n",
        "  map = {}\n",
        "  for x in data:\n",
        "    map[x['id']] = (x['url'], x['title'])\n",
        "\n",
        "  return map\n",
        "\n",
        "def evaluate_kfold(X, y, model, model_name=None, kfold=None, X_aug=None, y_aug=None, sampling=False, cf_matrix=False, augment=False, strategy=0.5, cf=False):\n",
        "  \"\"\" \n",
        "    Master function for training all models with cross validation.\n",
        "    Auxiliary techinqeus \n",
        "    \n",
        "    Input: Model, data and optional parameters\n",
        "    Returns : Cross Validated Metric Scores\n",
        "  \"\"\"\n",
        "  np.random.seed(196058)\n",
        "\n",
        "  cv_scores = {\n",
        "      'roc_auc':[],\n",
        "      # 'pr_auc':[],\n",
        "      'f1_weighted':[],\n",
        "      'f1_macro':[],\n",
        "      'accuracy':[],\n",
        "      'precision':[],\n",
        "      'recall':[]\n",
        "  }\n",
        "\n",
        "  # Define stratified approach\n",
        "  kfold = StratifiedKFold(n_splits=5, shuffle=True, random_state=1)\n",
        "\n",
        "  # enumerate the splits and summarize the distributions\n",
        "  for train_ix, test_ix in kfold.split(X, y):\n",
        "    # select rows\n",
        "    X_train, X_test = X[train_ix], X[test_ix]\n",
        "    y_train, y_test = y[train_ix], y[test_ix]\n",
        "\n",
        "    print(X_train.shape, y_train.shape, X_aug.shape, y_aug.shape)\n",
        "\n",
        "    # summarize train and test composition\n",
        "    train_0, train_1 = len(y_train[y_train==0]), len(y_train[y_train==1])\n",
        "    test_0, test_1 = len(y_test[y_test==0]), len(y_test[y_test==1])\n",
        "    print('>Train: 0=%d, 1=%d, Test: 0=%d, 1=%d' % (train_0, train_1, test_0, test_1))\n",
        "\n",
        "    if augment==True:\n",
        "      X_train = np.concatenate((X_train, X_aug), axis=0)\n",
        "      y_train = np.concatenate((y_train, y_aug), axis=0)\n",
        "      # print(X_train.shape, y_train.shape)\n",
        "\n",
        "      train_0, train_1 = len(y_train[y_train==0]), len(y_train[y_train==1])\n",
        "      test_0, test_1 = len(y_test[y_test==0]), len(y_test[y_test==1])\n",
        "      print('>Train: 0=%d, 1=%d, Test: 0=%d, 1=%d' % (train_0, train_1, test_0, test_1))\n",
        "\n",
        "      model.fit(X_train, y_train)\n",
        "    else:\n",
        "      model.fit(X_train, y_train)\n",
        "\n",
        "    ## Predict\n",
        "    y_pred = model.predict(X_test)\n",
        "\n",
        "    # Compute various metrics\n",
        "    cv_scores['roc_auc'].append( round(metrics.roc_auc_score(y_test, model.predict_proba(X_test)[:,1]) * 100, 1 ))\n",
        "    #cv_scores['accuracy'].append( round(metrics.accuracy_score(y_test, y_pred) * 100, 1))\n",
        "    cv_scores['f1_weighted'].append( round(metrics.f1_score(y_test, y_pred, average='weighted') * 100, 1))\n",
        "    cv_scores['f1_macro'].append( round(metrics.f1_score(y_test, y_pred, average='macro') * 100, 1))\n",
        "    cv_scores['precision'].append( round(metrics.precision_score(y_test, y_pred, average='macro') * 100, 1))\n",
        "    cv_scores['recall'].append( round(metrics.recall_score(y_test, y_pred, average='macro') * 100, 1))\n",
        "\n",
        "    # Optional confusion matrix plotting\n",
        "    if cf:\n",
        "      cm = confusion_matrix(y_test, y_pred, labels=model.classes_)\n",
        "      disp = ConfusionMatrixDisplay(confusion_matrix=cm, display_labels=model.classes_)\n",
        "      disp.plot()\n",
        "      plt.show()\n",
        "\n",
        "\n",
        "  res = [model_name]\n",
        "  for x in cv_scores.keys():\n",
        "    res.append(np.mean(cv_scores[x]))\n",
        "\n",
        "  return res\n",
        "\n",
        "def format_pretrained_features(df):\n",
        "\n",
        "  v2 = np.column_stack([df.id.values, df.trill_embedding.values.tolist()])\n",
        "  c2 = ['id'] + ['trill{}'.format(i) for i in range(v2.shape[1] - 1)] \n",
        "  df2 = pd.DataFrame(v2, df.index, c2)\n",
        "  df2['label'] = df['label']\n",
        "\n",
        "  return df2"
      ]
    },
    {
      "cell_type": "markdown",
      "metadata": {
        "id": "s1or99gogoOT"
      },
      "source": [
        "\n",
        "\n",
        "---\n",
        "\n",
        "# Read in TRILLSon Pre-trained Audio Embeddings\n",
        "\n",
        "---\n",
        "\n"
      ]
    },
    {
      "cell_type": "code",
      "execution_count": 5,
      "metadata": {
        "id": "eHWYnoUzjpPH",
        "colab": {
          "base_uri": "https://localhost:8080/"
        },
        "outputId": "e231c88f-6b92-4016-9f77-f4e443d78588"
      },
      "outputs": [
        {
          "output_type": "stream",
          "name": "stdout",
          "text": [
            "(3618, 3)\n"
          ]
        }
      ],
      "source": [
        "trill_df = pd.read_json(\"gdrive/MyDrive/thesis/podcast_data/clean_data/pretrained_final_dataset.json\", lines=True)\n",
        "\n",
        "print(trill_df.shape)"
      ]
    },
    {
      "cell_type": "code",
      "execution_count": null,
      "metadata": {
        "colab": {
          "base_uri": "https://localhost:8080/",
          "height": 206
        },
        "id": "fmBWoPmDEqHl",
        "outputId": "3fc1efb8-fb53-4cfe-feda-5cfb51b1d40d"
      },
      "outputs": [
        {
          "output_type": "execute_result",
          "data": {
            "text/plain": [
              "                                     id  \\\n",
              "0  0005b4e2-adad-4fab-bcce-7fd65bd17d67   \n",
              "1  00287f38-ff72-4adf-87f2-8325aa3651e3   \n",
              "2  002c23d0-cd29-4378-b075-aa7a657b1b57   \n",
              "3  0035c812-bf68-40a2-8c61-80b82a4cf236   \n",
              "4  0043b17a-f15f-41e1-850b-bac7f5b99a61   \n",
              "\n",
              "                                     trill_embedding  label  \n",
              "0  [-0.5438773036, 0.0037935674, -0.4936779737, -...      0  \n",
              "1  [-0.4827392399, -0.2244028151, -0.4869424701, ...      1  \n",
              "2  [-0.44797149300000005, -0.23329487440000002, -...      1  \n",
              "3  [-0.4465982914, 0.037524193500000004, -0.63198...      0  \n",
              "4  [-0.4514972866, -0.0652327836, -1.0197277069, ...      0  "
            ],
            "text/html": [
              "\n",
              "  <div id=\"df-f9af9947-8f2e-4810-8c42-31d01f0afff3\">\n",
              "    <div class=\"colab-df-container\">\n",
              "      <div>\n",
              "<style scoped>\n",
              "    .dataframe tbody tr th:only-of-type {\n",
              "        vertical-align: middle;\n",
              "    }\n",
              "\n",
              "    .dataframe tbody tr th {\n",
              "        vertical-align: top;\n",
              "    }\n",
              "\n",
              "    .dataframe thead th {\n",
              "        text-align: right;\n",
              "    }\n",
              "</style>\n",
              "<table border=\"1\" class=\"dataframe\">\n",
              "  <thead>\n",
              "    <tr style=\"text-align: right;\">\n",
              "      <th></th>\n",
              "      <th>id</th>\n",
              "      <th>trill_embedding</th>\n",
              "      <th>label</th>\n",
              "    </tr>\n",
              "  </thead>\n",
              "  <tbody>\n",
              "    <tr>\n",
              "      <th>0</th>\n",
              "      <td>0005b4e2-adad-4fab-bcce-7fd65bd17d67</td>\n",
              "      <td>[-0.5438773036, 0.0037935674, -0.4936779737, -...</td>\n",
              "      <td>0</td>\n",
              "    </tr>\n",
              "    <tr>\n",
              "      <th>1</th>\n",
              "      <td>00287f38-ff72-4adf-87f2-8325aa3651e3</td>\n",
              "      <td>[-0.4827392399, -0.2244028151, -0.4869424701, ...</td>\n",
              "      <td>1</td>\n",
              "    </tr>\n",
              "    <tr>\n",
              "      <th>2</th>\n",
              "      <td>002c23d0-cd29-4378-b075-aa7a657b1b57</td>\n",
              "      <td>[-0.44797149300000005, -0.23329487440000002, -...</td>\n",
              "      <td>1</td>\n",
              "    </tr>\n",
              "    <tr>\n",
              "      <th>3</th>\n",
              "      <td>0035c812-bf68-40a2-8c61-80b82a4cf236</td>\n",
              "      <td>[-0.4465982914, 0.037524193500000004, -0.63198...</td>\n",
              "      <td>0</td>\n",
              "    </tr>\n",
              "    <tr>\n",
              "      <th>4</th>\n",
              "      <td>0043b17a-f15f-41e1-850b-bac7f5b99a61</td>\n",
              "      <td>[-0.4514972866, -0.0652327836, -1.0197277069, ...</td>\n",
              "      <td>0</td>\n",
              "    </tr>\n",
              "  </tbody>\n",
              "</table>\n",
              "</div>\n",
              "      <button class=\"colab-df-convert\" onclick=\"convertToInteractive('df-f9af9947-8f2e-4810-8c42-31d01f0afff3')\"\n",
              "              title=\"Convert this dataframe to an interactive table.\"\n",
              "              style=\"display:none;\">\n",
              "        \n",
              "  <svg xmlns=\"http://www.w3.org/2000/svg\" height=\"24px\"viewBox=\"0 0 24 24\"\n",
              "       width=\"24px\">\n",
              "    <path d=\"M0 0h24v24H0V0z\" fill=\"none\"/>\n",
              "    <path d=\"M18.56 5.44l.94 2.06.94-2.06 2.06-.94-2.06-.94-.94-2.06-.94 2.06-2.06.94zm-11 1L8.5 8.5l.94-2.06 2.06-.94-2.06-.94L8.5 2.5l-.94 2.06-2.06.94zm10 10l.94 2.06.94-2.06 2.06-.94-2.06-.94-.94-2.06-.94 2.06-2.06.94z\"/><path d=\"M17.41 7.96l-1.37-1.37c-.4-.4-.92-.59-1.43-.59-.52 0-1.04.2-1.43.59L10.3 9.45l-7.72 7.72c-.78.78-.78 2.05 0 2.83L4 21.41c.39.39.9.59 1.41.59.51 0 1.02-.2 1.41-.59l7.78-7.78 2.81-2.81c.8-.78.8-2.07 0-2.86zM5.41 20L4 18.59l7.72-7.72 1.47 1.35L5.41 20z\"/>\n",
              "  </svg>\n",
              "      </button>\n",
              "      \n",
              "  <style>\n",
              "    .colab-df-container {\n",
              "      display:flex;\n",
              "      flex-wrap:wrap;\n",
              "      gap: 12px;\n",
              "    }\n",
              "\n",
              "    .colab-df-convert {\n",
              "      background-color: #E8F0FE;\n",
              "      border: none;\n",
              "      border-radius: 50%;\n",
              "      cursor: pointer;\n",
              "      display: none;\n",
              "      fill: #1967D2;\n",
              "      height: 32px;\n",
              "      padding: 0 0 0 0;\n",
              "      width: 32px;\n",
              "    }\n",
              "\n",
              "    .colab-df-convert:hover {\n",
              "      background-color: #E2EBFA;\n",
              "      box-shadow: 0px 1px 2px rgba(60, 64, 67, 0.3), 0px 1px 3px 1px rgba(60, 64, 67, 0.15);\n",
              "      fill: #174EA6;\n",
              "    }\n",
              "\n",
              "    [theme=dark] .colab-df-convert {\n",
              "      background-color: #3B4455;\n",
              "      fill: #D2E3FC;\n",
              "    }\n",
              "\n",
              "    [theme=dark] .colab-df-convert:hover {\n",
              "      background-color: #434B5C;\n",
              "      box-shadow: 0px 1px 3px 1px rgba(0, 0, 0, 0.15);\n",
              "      filter: drop-shadow(0px 1px 2px rgba(0, 0, 0, 0.3));\n",
              "      fill: #FFFFFF;\n",
              "    }\n",
              "  </style>\n",
              "\n",
              "      <script>\n",
              "        const buttonEl =\n",
              "          document.querySelector('#df-f9af9947-8f2e-4810-8c42-31d01f0afff3 button.colab-df-convert');\n",
              "        buttonEl.style.display =\n",
              "          google.colab.kernel.accessAllowed ? 'block' : 'none';\n",
              "\n",
              "        async function convertToInteractive(key) {\n",
              "          const element = document.querySelector('#df-f9af9947-8f2e-4810-8c42-31d01f0afff3');\n",
              "          const dataTable =\n",
              "            await google.colab.kernel.invokeFunction('convertToInteractive',\n",
              "                                                     [key], {});\n",
              "          if (!dataTable) return;\n",
              "\n",
              "          const docLinkHtml = 'Like what you see? Visit the ' +\n",
              "            '<a target=\"_blank\" href=https://colab.research.google.com/notebooks/data_table.ipynb>data table notebook</a>'\n",
              "            + ' to learn more about interactive tables.';\n",
              "          element.innerHTML = '';\n",
              "          dataTable['output_type'] = 'display_data';\n",
              "          await google.colab.output.renderOutput(dataTable, element);\n",
              "          const docLink = document.createElement('div');\n",
              "          docLink.innerHTML = docLinkHtml;\n",
              "          element.appendChild(docLink);\n",
              "        }\n",
              "      </script>\n",
              "    </div>\n",
              "  </div>\n",
              "  "
            ]
          },
          "metadata": {},
          "execution_count": 6
        }
      ],
      "source": [
        "trill_df.head(5)"
      ]
    },
    {
      "cell_type": "markdown",
      "metadata": {
        "id": "pjoHPsPkzv7L"
      },
      "source": [
        "\n",
        "\n",
        "---\n",
        "\n",
        "# Import Augmented Data for training set\n",
        "\n",
        "\n",
        "---\n",
        "\n"
      ]
    },
    {
      "cell_type": "code",
      "execution_count": 6,
      "metadata": {
        "id": "idgqVN1UVYLb",
        "colab": {
          "base_uri": "https://localhost:8080/"
        },
        "outputId": "86bd58c0-1126-4f4a-9118-94046f9a7b25"
      },
      "outputs": [
        {
          "output_type": "stream",
          "name": "stdout",
          "text": [
            "(2894,) (724,) 724\n",
            "(2894,) (724,) 724\n",
            "(2894,) (724,) 724\n",
            "(2895,) (723,) 723\n",
            "(2895,) (723,) 723\n"
          ]
        },
        {
          "output_type": "execute_result",
          "data": {
            "text/plain": [
              "(2929, 3)"
            ]
          },
          "metadata": {},
          "execution_count": 6
        }
      ],
      "source": [
        "aug_trill_df = pd.read_json(\"gdrive/MyDrive/thesis/podcast_data/clean_data/aug_pretrained_final_dataset.json\", lines=True)\n",
        "\n",
        "X = np.array(trill_df.id.tolist())\n",
        "y = np.array(trill_df.label.tolist()).astype('float32')\n",
        "\n",
        "tf.random.set_seed(34)\n",
        "kfold = StratifiedKFold(n_splits=5, shuffle=True, random_state=1)\n",
        "for train_ix, test_ix in kfold.split(X, y):\n",
        "    X_train, X_test = X[train_ix], X[test_ix]\n",
        "    y_train, y_test = y[train_ix], y[test_ix]\n",
        "\n",
        "    print(X_train.shape, X_test.shape, len(X_test.tolist()))\n",
        "\n",
        "# we precomputed augmented samples beforehand, drop test set augmentation \n",
        "aug_trill_df = aug_trill_df[~aug_trill_df.id.isin(X_test.tolist())]\n",
        "\n",
        "aug_trill_df.shape"
      ]
    },
    {
      "cell_type": "markdown",
      "metadata": {
        "id": "M21cWhAQ-jni"
      },
      "source": [
        "\n",
        "\n",
        "---\n",
        "\n",
        "# Evaluate Pretrained Audio features w/ Sequential Model\n",
        "## -Same cross validation as traditional approach\n",
        "## - NOTE: The 5CV results are printed as a list at the end of each ouput cell in the format of:\n",
        "     - [model_name, AUROC, f1_weighted, f1_macro, precision, recall\n",
        "\n",
        "---\n",
        "\n"
      ]
    },
    {
      "cell_type": "code",
      "execution_count": 7,
      "metadata": {
        "id": "UUazJxdK-pnq"
      },
      "outputs": [],
      "source": [
        "import tensorflow_addons as tfa\n",
        "np.random.seed(5)\n",
        "\n",
        "X = np.array(trill_df.trill_embedding.tolist()).astype('float32')\n",
        "Y = np.array(trill_df.label.tolist()).astype('float32')\n",
        "Y = Y.reshape((Y.shape[0], -1))\n",
        "\n",
        "X_aug = np.array(aug_trill_df.trill_embedding.tolist()).astype('float32')\n",
        "Y_aug = np.array(aug_trill_df.label.tolist()).astype('float32')\n",
        "Y_aug = Y_aug.reshape((Y_aug.shape[0], -1))"
      ]
    },
    {
      "cell_type": "markdown",
      "metadata": {
        "id": "fSh0byrP8RT_"
      },
      "source": [
        "\n",
        "\n",
        "---\n",
        "\n",
        "\n",
        "# 1. Baseline Sequential Network\n",
        "\n",
        "\n",
        "---\n",
        "\n",
        "\n",
        "## - note augmentation etc can be applied via the params in the evaluate_kfold"
      ]
    },
    {
      "cell_type": "code",
      "execution_count": null,
      "metadata": {
        "colab": {
          "base_uri": "https://localhost:8080/"
        },
        "id": "YQs9aHSr_wZj",
        "outputId": "0d971c69-a096-4fcc-fff2-08615486d909"
      },
      "outputs": [
        {
          "output_type": "stream",
          "name": "stderr",
          "text": [
            "/usr/local/lib/python3.7/dist-packages/ipykernel_launcher.py:20: DeprecationWarning: KerasClassifier is deprecated, use Sci-Keras (https://github.com/adriangb/scikeras) instead. See https://www.adriangb.com/scikeras/stable/migration.html for help migrating.\n"
          ]
        },
        {
          "output_type": "stream",
          "name": "stdout",
          "text": [
            "(2894, 3072) (2894, 1) (2929, 3072) (2929, 1)\n",
            ">Train: 0=2540, 1=354, Test: 0=636, 1=88\n",
            "              precision    recall  f1-score   support\n",
            "\n",
            "         0.0       0.88      1.00      0.93       636\n",
            "         1.0       0.33      0.01      0.02        88\n",
            "\n",
            "    accuracy                           0.88       724\n",
            "   macro avg       0.61      0.50      0.48       724\n",
            "weighted avg       0.81      0.88      0.82       724\n",
            "\n",
            "(2894, 3072) (2894, 1) (2929, 3072) (2929, 1)\n",
            ">Train: 0=2541, 1=353, Test: 0=635, 1=89\n",
            "              precision    recall  f1-score   support\n",
            "\n",
            "         0.0       0.88      1.00      0.93       635\n",
            "         1.0       0.50      0.01      0.02        89\n",
            "\n",
            "    accuracy                           0.88       724\n",
            "   macro avg       0.69      0.50      0.48       724\n",
            "weighted avg       0.83      0.88      0.82       724\n",
            "\n",
            "(2894, 3072) (2894, 1) (2929, 3072) (2929, 1)\n",
            ">Train: 0=2541, 1=353, Test: 0=635, 1=89\n",
            "              precision    recall  f1-score   support\n",
            "\n",
            "         0.0       0.88      0.98      0.93       635\n",
            "         1.0       0.32      0.08      0.13        89\n",
            "\n",
            "    accuracy                           0.87       724\n",
            "   macro avg       0.60      0.53      0.53       724\n",
            "weighted avg       0.81      0.87      0.83       724\n",
            "\n",
            "(2895, 3072) (2895, 1) (2929, 3072) (2929, 1)\n",
            ">Train: 0=2541, 1=354, Test: 0=635, 1=88\n",
            "              precision    recall  f1-score   support\n",
            "\n",
            "         0.0       0.91      0.78      0.84       635\n",
            "         1.0       0.23      0.47      0.31        88\n",
            "\n",
            "    accuracy                           0.75       723\n",
            "   macro avg       0.57      0.63      0.58       723\n",
            "weighted avg       0.83      0.75      0.78       723\n",
            "\n",
            "(2895, 3072) (2895, 1) (2929, 3072) (2929, 1)\n",
            ">Train: 0=2541, 1=354, Test: 0=635, 1=88\n",
            "              precision    recall  f1-score   support\n",
            "\n",
            "         0.0       0.88      0.98      0.93       635\n",
            "         1.0       0.33      0.06      0.10        88\n",
            "\n",
            "    accuracy                           0.87       723\n",
            "   macro avg       0.61      0.52      0.51       723\n",
            "weighted avg       0.82      0.87      0.83       723\n",
            "\n",
            "---------------------------------------------\n[model_name, AUROC, f1_weighted, f1_macro, precision, recall]\n--------------------------------------\n[Sequential, 67.18, 51.46, 84.74000000000001, 61.52, 53.660000000000004]\n"
          ]
        }
      ],
      "source": [
        "from keras.wrappers.scikit_learn import KerasClassifier\n",
        "from sklearn.model_selection import cross_val_score\n",
        "\n",
        "def create_baseline():\n",
        "\n",
        "  my_model = tf.keras.Sequential([\n",
        "    tf.keras.layers.Input(shape=(3072,), dtype=tf.float32,\n",
        "                          name='input_embedding'),\n",
        "    tf.keras.layers.Dense(512, activation='relu'),\n",
        "    tf.keras.layers.Dense(1, activation='sigmoid')])\n",
        "\n",
        "  # Compile model\n",
        "  my_model.compile(loss=tf.keras.losses.BinaryCrossentropy(),\n",
        "                  optimizer=\"adam\",\n",
        "                  metrics=[tf.keras.metrics.AUC()])\n",
        "  \n",
        "  return my_model\n",
        "\n",
        "tf.random.set_seed(34)\n",
        "estimator = KerasClassifier(build_fn=create_baseline, epochs=20, batch_size=64, verbose=0)\n",
        "kfold = StratifiedKFold(n_splits=5, shuffle=True, random_state=1)\n",
        "# results = cross_val_score(estimator, X, Y, cv=kfold, scoring='roc_auc')\n",
        "kfold_score = evaluate_kfold(X, Y, estimator, X_aug=X_aug, y_aug=Y_aug, augment=False, cf=False)\n",
        "\n",
        "print(kfold_score)\n",
        "# print(\"Baseline Sequential: %.2f%% (%.2f%%)\" % (results.mean()*100, results.std()*100))"
      ]
    },
    {
      "cell_type": "code",
      "source": [
        "print(kfold_score)"
      ],
      "metadata": {
        "colab": {
          "base_uri": "https://localhost:8080/"
        },
        "id": "jGl1JCWbXhtO",
        "outputId": "5a39ca3d-12ad-4d6f-d583-90f66f24fe99"
      },
      "execution_count": null,
      "outputs": [
        {
          "output_type": "stream",
          "name": "stdout",
          "text": [
            "[None, 67.78, 53.14, 84.48, 82.24, 84.48]\n"
          ]
        }
      ]
    },
    {
      "cell_type": "markdown",
      "source": [
        "\n",
        "\n",
        "---\n",
        "\n",
        "\n",
        "# 2. Baseline model + Augmentation\n",
        "\n",
        "\n",
        "---\n",
        "\n"
      ],
      "metadata": {
        "id": "RZ_BaP4w_plY"
      }
    },
    {
      "cell_type": "code",
      "execution_count": null,
      "metadata": {
        "id": "llLkEnrpLdXV",
        "colab": {
          "base_uri": "https://localhost:8080/",
          "height": 1000
        },
        "outputId": "48aa725b-90b4-42e3-982e-7cee2256688f"
      },
      "outputs": [
        {
          "output_type": "stream",
          "name": "stderr",
          "text": [
            "/usr/local/lib/python3.7/dist-packages/ipykernel_launcher.py:23: DeprecationWarning: KerasClassifier is deprecated, use Sci-Keras (https://github.com/adriangb/scikeras) instead. See https://www.adriangb.com/scikeras/stable/migration.html for help migrating.\n"
          ]
        },
        {
          "output_type": "stream",
          "name": "stdout",
          "text": [
            "(2929, 3072) (2929, 1)\n",
            "(2894, 3072) (2894, 1) (2929, 3072) (2929, 1)\n",
            ">Train: 0=2540, 1=354, Test: 0=636, 1=88\n",
            ">Train: 0=5117, 1=706, Test: 0=636, 1=88\n"
          ]
        },
        {
          "output_type": "display_data",
          "data": {
            "text/plain": [
              "<Figure size 432x288 with 2 Axes>"
            ],
            "image/png": "[encoded data removed]"
          },
          "metadata": {
            "needs_background": "light"
          }
        },
        {
          "output_type": "stream",
          "name": "stdout",
          "text": [
            "(2894, 3072) (2894, 1) (2929, 3072) (2929, 1)\n",
            ">Train: 0=2541, 1=353, Test: 0=635, 1=89\n",
            ">Train: 0=5118, 1=705, Test: 0=635, 1=89\n"
          ]
        },
        {
          "output_type": "display_data",
          "data": {
            "text/plain": [
              "<Figure size 432x288 with 2 Axes>"
            ],
            "image/png": "[encoded data removed]"
          },
          "metadata": {
            "needs_background": "light"
          }
        },
        {
          "output_type": "stream",
          "name": "stdout",
          "text": [
            "(2894, 3072) (2894, 1) (2929, 3072) (2929, 1)\n",
            ">Train: 0=2541, 1=353, Test: 0=635, 1=89\n",
            ">Train: 0=5118, 1=705, Test: 0=635, 1=89\n"
          ]
        },
        {
          "output_type": "display_data",
          "data": {
            "text/plain": [
              "<Figure size 432x288 with 2 Axes>"
            ],
            "image/png": "[encoded data removed]"
          },
          "metadata": {
            "needs_background": "light"
          }
        },
        {
          "output_type": "stream",
          "name": "stdout",
          "text": [
            "(2895, 3072) (2895, 1) (2929, 3072) (2929, 1)\n",
            ">Train: 0=2541, 1=354, Test: 0=635, 1=88\n",
            ">Train: 0=5118, 1=706, Test: 0=635, 1=88\n"
          ]
        },
        {
          "output_type": "display_data",
          "data": {
            "text/plain": [
              "<Figure size 432x288 with 2 Axes>"
            ],
            "image/png": "[encoded data removed]"
          },
          "metadata": {
            "needs_background": "light"
          }
        },
        {
          "output_type": "stream",
          "name": "stdout",
          "text": [
            "(2895, 3072) (2895, 1) (2929, 3072) (2929, 1)\n",
            ">Train: 0=2541, 1=354, Test: 0=635, 1=88\n",
            ">Train: 0=5118, 1=706, Test: 0=635, 1=88\n"
          ]
        },
        {
          "output_type": "display_data",
          "data": {
            "text/plain": [
              "<Figure size 432x288 with 2 Axes>"
            ],
            "image/png": "[encoded data removed]"
          },
          "metadata": {
            "needs_background": "light"
          }
        },
        {
          "output_type": "stream",
          "name": "stdout",
          "text": [
            "---------------------------------------------\n[model_name, AUROC, f1_weighted, f1_macro, precision, recall]\n--------------------------------------\n[model_name, AUROC, f1_weighted, f1_macro, precision, recall]\n['Sequential', 70.17999999999999, 48.260000000000005, 87.8, 83.52000000000001, 87.8]\n"
          ]
        }
      ],
      "source": [
        "from keras.wrappers.scikit_learn import KerasClassifier\n",
        "from sklearn.model_selection import cross_val_score\n",
        "\n",
        "tf.random.set_seed(34)\n",
        "np.random.seed(34)\n",
        "\n",
        "def create_baseline():\n",
        "\n",
        "  my_model = tf.keras.Sequential([\n",
        "    tf.keras.layers.Input(shape=(3072,), dtype=tf.float32,\n",
        "                          name='input_embedding'),\n",
        "    tf.keras.layers.Dense(512, activation='relu'),\n",
        "    tf.keras.layers.Dense(1, activation='sigmoid')])\n",
        "\n",
        "  # Compile model\n",
        "  my_model.compile(loss=tf.keras.losses.BinaryCrossentropy(),\n",
        "                  optimizer=\"adam\",\n",
        "                  metrics=[tf.keras.metrics.AUC()])\n",
        "  \n",
        "  return my_model\n",
        "\n",
        "\n",
        "estimator = KerasClassifier(build_fn=create_baseline, epochs=5, batch_size=64, verbose=0)\n",
        "kfold = StratifiedKFold(n_splits=5, shuffle=True, random_state=1)\n",
        "\n",
        "print(X_aug.shape, Y_aug.shape)\n",
        "kfold_score = evaluate_kfold(X, Y, estimator, model_name='Sequential', X_aug=X_aug, y_aug=Y_aug, cf=True, augment=True)\n",
        "\n",
        "print(kfold_score)\n",
        "# print(\"Baseline: %.2f%% (%.2f%%)\" % (results.mean()*100, results.std()*100))"
      ]
    },
    {
      "cell_type": "markdown",
      "metadata": {
        "id": "vextc3ZlGktw"
      },
      "source": [
        "\n",
        "\n",
        "---\n",
        "\n",
        "## 3. Sequential model w/Keras Tuner\n",
        "\n",
        "\n",
        "\n",
        "---\n",
        "\n",
        "\n"
      ]
    },
    {
      "cell_type": "code",
      "execution_count": null,
      "metadata": {
        "id": "vbzedP3KGwIY"
      },
      "outputs": [],
      "source": [
        "def model_builder(hp):\n",
        "  model = tf.keras.Sequential()\n",
        "  model.add(tf.keras.layers.Input(shape=(3072,), dtype=tf.float32, name='input_embedding'))\n",
        "\n",
        "  # Tune the number of units in the first Dense layer\n",
        "  # Choose an optimal value between 32-512\n",
        "  hp_units = hp.Int('units', min_value=32, max_value=2048, step=256)\n",
        "  hp_act = hp.Choice('act', values=['relu', 'linear'])\n",
        "\n",
        "  model.add(tf.keras.layers.Dense(units=hp_units, activation=hp_act))\n",
        "\n",
        "  hp_dropout = hp.Choice('dropout', values=[0.1, 0.2, 0.3, 0.4, 0.5, 0.6, 0.7, 0.8, 0.9])\n",
        "  model.add(tf.keras.layers.Dropout(rate=hp_dropout))\n",
        "\n",
        "  model.add(tf.keras.layers.Dense(1, activation='sigmoid'))\n",
        "\n",
        "  # Tune the learning rate for the optimizer\n",
        "  # Choose an optimal value from 0.01, 0.001, or 0.0001\n",
        "  hp_learning_rate = hp.Choice('learning_rate', values=[1e-1, 1e-2, 1e-3, 1e-4])\n",
        "\n",
        "  # model.compile(optimizer=keras.optimizers.Adam(learning_rate=hp_learning_rate),\n",
        "  #               loss=keras.losses.SparseCategoricalCrossentropy(from_logits=True),\n",
        "  #               metrics=['accuracy'])\n",
        "  \n",
        "  # Compile model\n",
        "  model.compile(loss=tf.keras.losses.BinaryCrossentropy(),\n",
        "                  optimizer=tf.keras.optimizers.Adam(learning_rate=hp_learning_rate),\n",
        "                  metrics=[tf.keras.metrics.AUC()])\n",
        "\n",
        "  return model"
      ]
    },
    {
      "cell_type": "code",
      "execution_count": null,
      "metadata": {
        "colab": {
          "background_save": true,
          "base_uri": "https://localhost:8080/"
        },
        "id": "Cly1GpnhITuT",
        "outputId": "84f830ef-f912-4bf7-e94f-f706b0c04417"
      },
      "outputs": [
        {
          "name": "stdout",
          "output_type": "stream",
          "text": [
            "INFO:tensorflow:Reloading Oracle from existing project ./untitled_project/oracle.json\n",
            "INFO:tensorflow:Reloading Tuner from ./untitled_project/tuner0.json\n"
          ]
        }
      ],
      "source": [
        "stop_early = tf.keras.callbacks.EarlyStopping(monitor='val_loss', patience=5)\n",
        "\n",
        "# obj = kt.Objective(\"val_roc_auc\", direction=\"max\")\n",
        "\n",
        "tuner = kt.Hyperband(model_builder,\n",
        "                     objective=kt.Objective(\"auc\", direction=\"max\"),\n",
        "                     max_epochs=30,\n",
        "                     factor=3,\n",
        "                     seed=42)"
      ]
    },
    {
      "cell_type": "code",
      "execution_count": null,
      "metadata": {
        "colab": {
          "base_uri": "https://localhost:8080/",
          "height": 1000
        },
        "id": "YVE9c4p4Ig0K",
        "outputId": "11d06b83-67dd-465b-bcb8-f761d8c8e335"
      },
      "outputs": [
        {
          "name": "stdout",
          "output_type": "stream",
          "text": [
            "\n",
            "Search: Running Trial #2\n",
            "\n",
            "Value             |Best Value So Far |Hyperparameter\n",
            "3616              |2592              |units\n",
            "leakyrelu         |relu              |act\n",
            "0.9               |0.7               |dropout\n",
            "0.1               |0.001             |learning_rate\n",
            "2                 |2                 |tuner/epochs\n",
            "0                 |0                 |tuner/initial_epoch\n",
            "3                 |3                 |tuner/bracket\n",
            "0                 |0                 |tuner/round\n",
            "\n"
          ]
        }
      ],
      "source": [
        "tuner.search(X_aug, y_aug, epochs=50, validation_split=0.2, callbacks=[stop_early])\n",
        "\n",
        "# Get the optimal hyperparameters\n",
        "best_hps=tuner.get_best_hyperparameters(num_trials=1)[0]"
      ]
    },
    {
      "cell_type": "code",
      "execution_count": null,
      "metadata": {
        "colab": {
          "base_uri": "https://localhost:8080/"
        },
        "id": "pXYhFQ6PJr-g",
        "outputId": "38c4e768-f1ea-4019-a891-78372d1c1634"
      },
      "outputs": [
        {
          "name": "stdout",
          "output_type": "stream",
          "text": [
            "1024\n",
            "0.0001\n",
            "0.4\n"
          ]
        }
      ],
      "source": [
        "print(best_hps.get('units'))\n",
        "print(best_hps.get('learning_rate'))\n",
        "print(best_hps.get('dropout'))"
      ]
    },
    {
      "cell_type": "code",
      "execution_count": null,
      "metadata": {
        "colab": {
          "base_uri": "https://localhost:8080/",
          "height": 1000
        },
        "id": "nUAbZQXVOYQY",
        "outputId": "a39013f3-0ed8-4099-abe3-7f5d6f0742af"
      },
      "outputs": [
        {
          "output_type": "stream",
          "name": "stdout",
          "text": [
            "(2894, 3072) (2894,) (2929, 3072) (2929, 1)\n",
            ">Train: 0=2540, 1=354, Test: 0=636, 1=88\n",
            "Epoch 1/5\n"
          ]
        },
        {
          "output_type": "stream",
          "name": "stderr",
          "text": [
            "/usr/local/lib/python3.7/dist-packages/ipykernel_launcher.py:21: DeprecationWarning: KerasClassifier is deprecated, use Sci-Keras (https://github.com/adriangb/scikeras) instead. See https://www.adriangb.com/scikeras/stable/migration.html for help migrating.\n"
          ]
        },
        {
          "output_type": "stream",
          "name": "stdout",
          "text": [
            "Epoch 2/5\n",
            "Epoch 3/5\n",
            "Epoch 4/5\n",
            "Epoch 5/5\n",
            "              precision    recall  f1-score   support\n",
            "\n",
            "         0.0       0.88      0.99      0.93       636\n",
            "         1.0       0.38      0.03      0.06        88\n",
            "\n",
            "    accuracy                           0.88       724\n",
            "   macro avg       0.63      0.51      0.50       724\n",
            "weighted avg       0.82      0.88      0.83       724\n",
            "\n"
          ]
        },
        {
          "output_type": "display_data",
          "data": {
            "text/plain": [
              "<Figure size 432x288 with 2 Axes>"
            ],
            "image/png": "[encoded data removed]"
          },
          "metadata": {
            "needs_background": "light"
          }
        },
        {
          "output_type": "stream",
          "name": "stdout",
          "text": [
            "(2894, 3072) (2894,) (2929, 3072) (2929, 1)\n",
            ">Train: 0=2541, 1=353, Test: 0=635, 1=89\n",
            "Epoch 1/5\n",
            "Epoch 2/5\n",
            "Epoch 3/5\n",
            "Epoch 4/5\n",
            "Epoch 5/5\n",
            "              precision    recall  f1-score   support\n",
            "\n",
            "         0.0       0.88      1.00      0.94       635\n",
            "         1.0       1.00      0.01      0.02        89\n",
            "\n",
            "    accuracy                           0.88       724\n",
            "   macro avg       0.94      0.51      0.48       724\n",
            "weighted avg       0.89      0.88      0.82       724\n",
            "\n"
          ]
        },
        {
          "output_type": "display_data",
          "data": {
            "text/plain": [
              "<Figure size 432x288 with 2 Axes>"
            ],
            "image/png": "[encoded data removed]"
          },
          "metadata": {
            "needs_background": "light"
          }
        },
        {
          "output_type": "stream",
          "name": "stdout",
          "text": [
            "(2894, 3072) (2894,) (2929, 3072) (2929, 1)\n",
            ">Train: 0=2541, 1=353, Test: 0=635, 1=89\n",
            "Epoch 1/5\n",
            "Epoch 2/5\n",
            "Epoch 3/5\n",
            "Epoch 4/5\n",
            "Epoch 5/5\n",
            "              precision    recall  f1-score   support\n",
            "\n",
            "         0.0       0.88      1.00      0.93       635\n",
            "         1.0       0.00      0.00      0.00        89\n",
            "\n",
            "    accuracy                           0.88       724\n",
            "   macro avg       0.44      0.50      0.47       724\n",
            "weighted avg       0.77      0.88      0.82       724\n",
            "\n"
          ]
        },
        {
          "output_type": "display_data",
          "data": {
            "text/plain": [
              "<Figure size 432x288 with 2 Axes>"
            ],
            "image/png": "[encoded data removed]"
          },
          "metadata": {
            "needs_background": "light"
          }
        },
        {
          "output_type": "stream",
          "name": "stdout",
          "text": [
            "(2895, 3072) (2895,) (2929, 3072) (2929, 1)\n",
            ">Train: 0=2541, 1=354, Test: 0=635, 1=88\n",
            "Epoch 1/5\n",
            "Epoch 2/5\n",
            "Epoch 3/5\n",
            "Epoch 4/5\n",
            "Epoch 5/5\n",
            "              precision    recall  f1-score   support\n",
            "\n",
            "         0.0       0.88      0.99      0.93       635\n",
            "         1.0       0.20      0.01      0.02        88\n",
            "\n",
            "    accuracy                           0.87       723\n",
            "   macro avg       0.54      0.50      0.48       723\n",
            "weighted avg       0.80      0.87      0.82       723\n",
            "\n"
          ]
        },
        {
          "output_type": "display_data",
          "data": {
            "text/plain": [
              "<Figure size 432x288 with 2 Axes>"
            ],
            "image/png": "[encoded data removed]"
          },
          "metadata": {
            "needs_background": "light"
          }
        },
        {
          "output_type": "stream",
          "name": "stdout",
          "text": [
            "(2895, 3072) (2895,) (2929, 3072) (2929, 1)\n",
            ">Train: 0=2541, 1=354, Test: 0=635, 1=88\n",
            "Epoch 1/5\n",
            "Epoch 2/5\n",
            "Epoch 3/5\n",
            "Epoch 4/5\n",
            "Epoch 5/5\n",
            "              precision    recall  f1-score   support\n",
            "\n",
            "         0.0       0.90      0.65      0.75       635\n",
            "         1.0       0.16      0.50      0.25        88\n",
            "\n",
            "    accuracy                           0.63       723\n",
            "   macro avg       0.53      0.57      0.50       723\n",
            "weighted avg       0.81      0.63      0.69       723\n",
            "\n"
          ]
        },
        {
          "output_type": "display_data",
          "data": {
            "text/plain": [
              "<Figure size 432x288 with 2 Axes>"
            ],
            "image/png": "[encoded data removed]"
          },
          "metadata": {
            "needs_background": "light"
          }
        },
        {
          "output_type": "stream",
          "name": "stdout",
          "text": [
            "---------------------------------------------\n[model_name, AUROC, f1_weighted, f1_macro, precision, recall]\n--------------------------------------\n[None, 67.34, 48.419999999999995, 82.64, 61.54, 51.88000000000001]\n"
          ]
        },
        {
          "output_type": "stream",
          "name": "stderr",
          "text": [
            "/usr/local/lib/python3.7/dist-packages/numpy/core/fromnumeric.py:3441: RuntimeWarning: Mean of empty slice.\n",
            "  out=out, **kwargs)\n",
            "/usr/local/lib/python3.7/dist-packages/numpy/core/_methods.py:189: RuntimeWarning: invalid value encountered in double_scalars\n",
            "  ret = ret.dtype.type(ret / rcount)\n"
          ]
        }
      ],
      "source": [
        "from keras.wrappers.scikit_learn import KerasClassifier\n",
        "from sklearn.model_selection import cross_val_score\n",
        "\n",
        "def create_tuned():\n",
        "\n",
        "  my_model = tf.keras.Sequential([\n",
        "    tf.keras.layers.Input(shape=(3072,), dtype=tf.float32,\n",
        "                          name='input_embedding'),\n",
        "    tf.keras.layers.Dense(2048, activation='relu'),\n",
        "    tf.keras.layers.Dropout(0.4),\n",
        "    tf.keras.layers.Dense(1, activation='sigmoid')])\n",
        "\n",
        "  # Compile model\n",
        "  my_model.compile(loss=tf.keras.losses.BinaryCrossentropy(),\n",
        "                  optimizer=tf.keras.optimizers.Adam(learning_rate=0.0001),\n",
        "                  metrics=[tf.keras.metrics.AUC()])\n",
        "  \n",
        "  return my_model\n",
        "\n",
        "tf.random.set_seed(34)\n",
        "estimator = KerasClassifier(build_fn=create_tuned, epochs=5, batch_size=64, verbose=20)\n",
        "kfold = StratifiedKFold(n_splits=5, shuffle=True, random_state=1)\n",
        "\n",
        "kfold_score = evaluate_kfold(X, y, estimator, X_aug=X_aug, y_aug=Y_aug, augment=False, cf=True)\n",
        "print(kfold_score)\n",
        "\n",
        "# results = cross_val_score(estimator, X, Y, cv=kfold, scoring='roc_auc')\n",
        "# print(\"Baseline: %.2f%% (%.2f%%)\" % (results.mean()*100, results.std()*100))"
      ]
    },
    {
      "cell_type": "code",
      "execution_count": null,
      "metadata": {
        "id": "eBUp5m4nO0h3"
      },
      "outputs": [],
      "source": [
        ""
      ]
    },
    {
      "cell_type": "markdown",
      "source": [
        "\n",
        "\n",
        "---\n",
        "\n",
        "# 4. Tuned + Aug\n",
        "\n",
        "\n",
        "---\n",
        "\n"
      ],
      "metadata": {
        "id": "33DcoSt9CDaW"
      }
    },
    {
      "cell_type": "code",
      "source": [
        "from keras.wrappers.scikit_learn import KerasClassifier\n",
        "from sklearn.model_selection import cross_val_score\n",
        "\n",
        "tf.random.set_seed(34)\n",
        "np.random.seed(34)\n",
        "\n",
        "def create_tuned():\n",
        "\n",
        "  my_model = tf.keras.Sequential([\n",
        "    tf.keras.layers.Input(shape=(3072,), dtype=tf.float32,\n",
        "                          name='input_embedding'),\n",
        "    tf.keras.layers.Dense(2048, activation='relu'),\n",
        "    tf.keras.layers.Dropout(0.1),\n",
        "    tf.keras.layers.Dense(1, activation='sigmoid')])\n",
        "\n",
        "  # Compile model\n",
        "  my_model.compile(loss=tf.keras.losses.BinaryCrossentropy(),\n",
        "                  optimizer=tf.keras.optimizers.Adam(learning_rate=0.0001),\n",
        "                  metrics=[tf.keras.metrics.AUC()])\n",
        "  \n",
        "  return my_model\n",
        "\n",
        "\n",
        "estimator = KerasClassifier(build_fn=create_tuned, epochs=150, batch_size=64, verbose=0)\n",
        "# kfold = StratifiedKFold(n_splits=3, shuffle=True, random_state=1)\n",
        "# results = cross_val_score(estimator, X, Y, cv=kfold, scoring='roc_auc')\n",
        "print(X_aug.shape, Y_aug.shape)\n",
        "kfold_score = evaluate_kfold(X, Y, estimator, model_name='Sequential', X_aug=X_aug, y_aug=Y_aug, augment=True, cf=True)\n",
        "\n",
        "print(kfold_score)\n",
        "# print(\"Baseline: %.2f%% (%.2f%%)\" % (results.mean()*100, results.std()*100))"
      ],
      "metadata": {
        "colab": {
          "base_uri": "https://localhost:8080/",
          "height": 1000
        },
        "id": "L4qdbww2CJjV",
        "outputId": "661ff6c0-42af-4f09-9823-88c3f8c069f3"
      },
      "execution_count": null,
      "outputs": [
        {
          "output_type": "stream",
          "name": "stderr",
          "text": [
            "/usr/local/lib/python3.7/dist-packages/ipykernel_launcher.py:24: DeprecationWarning: KerasClassifier is deprecated, use Sci-Keras (https://github.com/adriangb/scikeras) instead. See https://www.adriangb.com/scikeras/stable/migration.html for help migrating.\n"
          ]
        },
        {
          "output_type": "stream",
          "name": "stdout",
          "text": [
            "(2929, 3072) (2929, 1)\n",
            "(2894, 3072) (2894, 1) (2929, 3072) (2929, 1)\n",
            ">Train: 0=2540, 1=354, Test: 0=636, 1=88\n",
            ">Train: 0=5117, 1=706, Test: 0=636, 1=88\n",
            "              precision    recall  f1-score   support\n",
            "\n",
            "         0.0       0.94      0.86      0.90       636\n",
            "         1.0       0.37      0.59      0.46        88\n",
            "\n",
            "    accuracy                           0.83       724\n",
            "   macro avg       0.65      0.73      0.68       724\n",
            "weighted avg       0.87      0.83      0.84       724\n",
            "\n"
          ]
        },
        {
          "output_type": "display_data",
          "data": {
            "text/plain": [
              "<Figure size 432x288 with 2 Axes>"
            ],
            "image/png": "[encoded data removed]"
          },
          "metadata": {
            "needs_background": "light"
          }
        },
        {
          "output_type": "stream",
          "name": "stdout",
          "text": [
            "(2894, 3072) (2894, 1) (2929, 3072) (2929, 1)\n",
            ">Train: 0=2541, 1=353, Test: 0=635, 1=89\n",
            ">Train: 0=5118, 1=705, Test: 0=635, 1=89\n",
            "              precision    recall  f1-score   support\n",
            "\n",
            "         0.0       0.91      0.99      0.95       635\n",
            "         1.0       0.76      0.33      0.46        89\n",
            "\n",
            "    accuracy                           0.90       724\n",
            "   macro avg       0.84      0.66      0.70       724\n",
            "weighted avg       0.89      0.90      0.89       724\n",
            "\n"
          ]
        },
        {
          "output_type": "display_data",
          "data": {
            "text/plain": [
              "<Figure size 432x288 with 2 Axes>"
            ],
            "image/png": "[encoded data removed]"
          },
          "metadata": {
            "needs_background": "light"
          }
        },
        {
          "output_type": "stream",
          "name": "stdout",
          "text": [
            "(2894, 3072) (2894, 1) (2929, 3072) (2929, 1)\n",
            ">Train: 0=2541, 1=353, Test: 0=635, 1=89\n",
            ">Train: 0=5118, 1=705, Test: 0=635, 1=89\n",
            "              precision    recall  f1-score   support\n",
            "\n",
            "         0.0       0.93      0.96      0.94       635\n",
            "         1.0       0.61      0.48      0.54        89\n",
            "\n",
            "    accuracy                           0.90       724\n",
            "   macro avg       0.77      0.72      0.74       724\n",
            "weighted avg       0.89      0.90      0.89       724\n",
            "\n"
          ]
        },
        {
          "output_type": "display_data",
          "data": {
            "text/plain": [
              "<Figure size 432x288 with 2 Axes>"
            ],
            "image/png": "[encoded data removed]"
          },
          "metadata": {
            "needs_background": "light"
          }
        },
        {
          "output_type": "stream",
          "name": "stdout",
          "text": [
            "(2895, 3072) (2895, 1) (2929, 3072) (2929, 1)\n",
            ">Train: 0=2541, 1=354, Test: 0=635, 1=88\n",
            ">Train: 0=5118, 1=706, Test: 0=635, 1=88\n",
            "              precision    recall  f1-score   support\n",
            "\n",
            "         0.0       0.90      0.99      0.94       635\n",
            "         1.0       0.71      0.23      0.34        88\n",
            "\n",
            "    accuracy                           0.89       723\n",
            "   macro avg       0.81      0.61      0.64       723\n",
            "weighted avg       0.88      0.89      0.87       723\n",
            "\n"
          ]
        },
        {
          "output_type": "display_data",
          "data": {
            "text/plain": [
              "<Figure size 432x288 with 2 Axes>"
            ],
            "image/png": "[encoded data removed]"
          },
          "metadata": {
            "needs_background": "light"
          }
        },
        {
          "output_type": "stream",
          "name": "stdout",
          "text": [
            "(2895, 3072) (2895, 1) (2929, 3072) (2929, 1)\n",
            ">Train: 0=2541, 1=354, Test: 0=635, 1=88\n",
            ">Train: 0=5118, 1=706, Test: 0=635, 1=88\n",
            "              precision    recall  f1-score   support\n",
            "\n",
            "         0.0       0.88      0.96      0.92       635\n",
            "         1.0       0.23      0.08      0.12        88\n",
            "\n",
            "    accuracy                           0.85       723\n",
            "   macro avg       0.55      0.52      0.52       723\n",
            "weighted avg       0.80      0.85      0.82       723\n",
            "\n"
          ]
        },
        {
          "output_type": "display_data",
          "data": {
            "text/plain": [
              "<Figure size 432x288 with 2 Axes>"
            ],
            "image/png": "[encoded data removed]"
          },
          "metadata": {
            "needs_background": "light"
          }
        },
        {
          "output_type": "stream",
          "name": "stdout",
          "text": [
            "---------------------------------------------\n[model_name, AUROC, f1_weighted, f1_macro, precision, recall]\n--------------------------------------\n['Sequential', 77.12, 65.67999999999999, 87.66, 72.53999999999999, 64.6]\n"
          ]
        },
        {
          "output_type": "stream",
          "name": "stderr",
          "text": [
            "/usr/local/lib/python3.7/dist-packages/numpy/core/fromnumeric.py:3441: RuntimeWarning: Mean of empty slice.\n",
            "  out=out, **kwargs)\n",
            "/usr/local/lib/python3.7/dist-packages/numpy/core/_methods.py:189: RuntimeWarning: invalid value encountered in double_scalars\n",
            "  ret = ret.dtype.type(ret / rcount)\n"
          ]
        }
      ]
    },
    {
      "cell_type": "code",
      "source": [
        "plt"
      ],
      "metadata": {
        "colab": {
          "base_uri": "https://localhost:8080/"
        },
        "id": "HvpaCisbCPMZ",
        "outputId": "55b58408-f020-43a8-8fcc-94a33dcf2ace"
      },
      "execution_count": null,
      "outputs": [
        {
          "output_type": "execute_result",
          "data": {
            "text/plain": [
              "<module 'matplotlib.pyplot' from '/usr/local/lib/python3.7/dist-packages/matplotlib/pyplot.py'>"
            ]
          },
          "metadata": {},
          "execution_count": 90
        }
      ]
    },
    {
      "cell_type": "markdown",
      "source": [
        "\n",
        "\n",
        "---\n",
        "\n",
        "\n",
        "# Overfitting\n",
        "\n",
        "\n",
        "\n",
        "---\n",
        "\n"
      ],
      "metadata": {
        "id": "g1VbnEiMPa08"
      }
    },
    {
      "cell_type": "markdown",
      "source": [
        "## This cell is rerun with different parameters for different experiments"
      ],
      "metadata": {
        "id": "npXEWrE8wbXV"
      }
    },
    {
      "cell_type": "code",
      "source": [
        "tf.random.set_seed(34)\n",
        "\n",
        "# fig, ax = plt.subplots()\n",
        "\n",
        "kfold = StratifiedKFold(n_splits=5, shuffle=True, random_state=3)\n",
        "\n",
        "# Metrics and plotting\n",
        "\n",
        "val_loss, val_auc = [], []\n",
        "train_loss, train_auc = [], []\n",
        "\n",
        "augment=True\n",
        "x = 0\n",
        "for train, test in kfold.split(X, y):\n",
        "  # if x == 1:\n",
        "  #   break\n",
        "  X_train, y_train = X[train], y[train]\n",
        "  X_test, y_test = X[test], y[test]\n",
        "\n",
        "\n",
        "  Y_aug = np.reshape(Y_aug, (Y_aug.shape[0],)) \n",
        "\n",
        "  if augment:\n",
        "    X_train = np.concatenate((X_train, X_aug))\n",
        "    y_train = np.concatenate((y_train, Y_aug))\n",
        "\n",
        "  X_train = np.asarray(X_train).astype('float32')\n",
        "  X_test = np.asarray(X_test).astype('float32')\n",
        "  y_train = np.asarray(y_train).astype('float32')\n",
        "  y_test = np.asarray(y_test).astype('float32')\n",
        "\n",
        "\n",
        "  model = tf.keras.Sequential([\n",
        "    tf.keras.layers.Input(shape=(3072,), dtype=tf.float32,\n",
        "                          name='input_embedding'),\n",
        "    tf.keras.layers.Dense(2048, activation='relu'),\n",
        "    tf.keras.layers.Dropout(0.7),\n",
        "    tf.keras.layers.Dense(1, activation='sigmoid')])\n",
        "  \n",
        "  # class_weight = {0: 1, 1: 100.}\n",
        "\n",
        "  # Compile model\n",
        "  model.compile(loss=tf.keras.losses.BinaryCrossentropy(),\n",
        "                  optimizer=tf.keras.optimizers.Adam(learning_rate=0.0001),\n",
        "                  metrics=[tf.keras.metrics.AUC()])\n",
        "\n",
        "  history = model.fit(X_train, y_train, validation_data=[X_test, y_test], batch_size=64, epochs=150)\n",
        "  print(history.history.keys())\n",
        "  # summarize history for auc - plotting code modified from online\n",
        "  plt.plot(history.history['auc_2'])\n",
        "  plt.plot(history.history['val_auc_2'])\n",
        "  # plt.plot(history.history['loss'])\n",
        "  # plt.plot(history.history['val_loss'])\n",
        "  plt.title('Overfitting AUROC: TRILLSson + Augmentation + Dropout')\n",
        "  plt.ylabel('AUROC')\n",
        "  plt.xlabel('Epoch')\n",
        "  plt.legend(['train_auc', 'val_auc'], loc='upper left')\n",
        "  plt.show()\n",
        "\n",
        "  # summarize history for loss\n",
        "  plt.plot(history.history['loss'])\n",
        "  plt.plot(history.history['val_loss'])\n",
        "  plt.title('Overfitting Loss: TRILLSson + Augmentation + Dropout')\n",
        "  plt.ylabel('Loss')\n",
        "  plt.xlabel('Epoch')\n",
        "  plt.legend(['train_loss', 'val_loss'], loc='upper left')\n",
        "  plt.show()\n",
        "\n",
        "  x+=1"
      ],
      "metadata": {
        "id": "udiy8cydT0Ov",
        "colab": {
          "base_uri": "https://localhost:8080/",
          "height": 1000
        },
        "outputId": "2902e7fd-9008-49b8-df5f-26559602b009"
      },
      "execution_count": 10,
      "outputs": [
        {
          "output_type": "stream",
          "name": "stdout",
          "text": [
            "(2894,) (2929,)\n",
            "(2929,)\n",
            "Epoch 1/150\n",
            "91/91 [==============================] - 1s 8ms/step - loss: 0.9498 - auc_2: 0.5339 - val_loss: 0.3691 - val_auc_2: 0.6427\n",
            "Epoch 2/150\n",
            "91/91 [==============================] - 0s 5ms/step - loss: 0.5990 - auc_2: 0.5424 - val_loss: 0.4768 - val_auc_2: 0.6393\n",
            "Epoch 3/150\n",
            "91/91 [==============================] - 0s 4ms/step - loss: 0.4409 - auc_2: 0.5854 - val_loss: 0.3547 - val_auc_2: 0.6538\n",
            "Epoch 4/150\n",
            "91/91 [==============================] - 0s 4ms/step - loss: 0.4067 - auc_2: 0.5906 - val_loss: 0.3508 - val_auc_2: 0.6668\n",
            "Epoch 5/150\n",
            "91/91 [==============================] - 0s 4ms/step - loss: 0.3826 - auc_2: 0.6138 - val_loss: 0.3566 - val_auc_2: 0.6595\n",
            "Epoch 6/150\n",
            "91/91 [==============================] - 0s 4ms/step - loss: 0.3780 - auc_2: 0.5967 - val_loss: 0.3558 - val_auc_2: 0.6579\n",
            "Epoch 7/150\n",
            "91/91 [==============================] - 0s 4ms/step - loss: 0.3671 - auc_2: 0.6146 - val_loss: 0.3493 - val_auc_2: 0.6701\n",
            "Epoch 8/150\n",
            "91/91 [==============================] - 0s 4ms/step - loss: 0.3574 - auc_2: 0.6523 - val_loss: 0.3662 - val_auc_2: 0.6455\n",
            "Epoch 9/150\n",
            "91/91 [==============================] - 0s 4ms/step - loss: 0.3610 - auc_2: 0.6368 - val_loss: 0.3554 - val_auc_2: 0.6518\n",
            "Epoch 10/150\n",
            "91/91 [==============================] - 0s 4ms/step - loss: 0.3610 - auc_2: 0.6310 - val_loss: 0.3547 - val_auc_2: 0.6537\n",
            "Epoch 11/150\n",
            "91/91 [==============================] - 0s 4ms/step - loss: 0.3573 - auc_2: 0.6448 - val_loss: 0.3588 - val_auc_2: 0.6532\n",
            "Epoch 12/150\n",
            "91/91 [==============================] - 0s 4ms/step - loss: 0.3569 - auc_2: 0.6483 - val_loss: 0.3518 - val_auc_2: 0.6574\n",
            "Epoch 13/150\n",
            "91/91 [==============================] - 0s 4ms/step - loss: 0.3592 - auc_2: 0.6434 - val_loss: 0.3487 - val_auc_2: 0.6675\n",
            "Epoch 14/150\n",
            "91/91 [==============================] - 0s 4ms/step - loss: 0.3580 - auc_2: 0.6420 - val_loss: 0.3506 - val_auc_2: 0.6644\n",
            "Epoch 15/150\n",
            "91/91 [==============================] - 0s 4ms/step - loss: 0.3579 - auc_2: 0.6451 - val_loss: 0.3534 - val_auc_2: 0.6554\n",
            "Epoch 16/150\n",
            "91/91 [==============================] - 0s 4ms/step - loss: 0.3545 - auc_2: 0.6610 - val_loss: 0.3499 - val_auc_2: 0.6665\n",
            "Epoch 17/150\n",
            "91/91 [==============================] - 0s 4ms/step - loss: 0.3531 - auc_2: 0.6563 - val_loss: 0.3525 - val_auc_2: 0.6625\n",
            "Epoch 18/150\n",
            "91/91 [==============================] - 0s 4ms/step - loss: 0.3554 - auc_2: 0.6543 - val_loss: 0.3478 - val_auc_2: 0.6672\n",
            "Epoch 19/150\n",
            "91/91 [==============================] - 0s 4ms/step - loss: 0.3547 - auc_2: 0.6639 - val_loss: 0.3518 - val_auc_2: 0.6610\n",
            "Epoch 20/150\n",
            "91/91 [==============================] - 0s 4ms/step - loss: 0.3555 - auc_2: 0.6585 - val_loss: 0.3510 - val_auc_2: 0.6676\n",
            "Epoch 21/150\n",
            "91/91 [==============================] - 0s 4ms/step - loss: 0.3520 - auc_2: 0.6648 - val_loss: 0.3456 - val_auc_2: 0.6802\n",
            "Epoch 22/150\n",
            "91/91 [==============================] - 0s 4ms/step - loss: 0.3493 - auc_2: 0.6801 - val_loss: 0.3500 - val_auc_2: 0.6637\n",
            "Epoch 23/150\n",
            "91/91 [==============================] - 0s 4ms/step - loss: 0.3463 - auc_2: 0.6851 - val_loss: 0.3460 - val_auc_2: 0.6713\n",
            "Epoch 24/150\n",
            "91/91 [==============================] - 0s 4ms/step - loss: 0.3516 - auc_2: 0.6677 - val_loss: 0.3473 - val_auc_2: 0.6701\n",
            "Epoch 25/150\n",
            "91/91 [==============================] - 0s 4ms/step - loss: 0.3496 - auc_2: 0.6756 - val_loss: 0.3485 - val_auc_2: 0.6642\n",
            "Epoch 26/150\n",
            "91/91 [==============================] - 0s 4ms/step - loss: 0.3407 - auc_2: 0.6931 - val_loss: 0.3485 - val_auc_2: 0.6703\n",
            "Epoch 27/150\n",
            "91/91 [==============================] - 0s 4ms/step - loss: 0.3442 - auc_2: 0.6915 - val_loss: 0.3490 - val_auc_2: 0.6699\n",
            "Epoch 28/150\n",
            "91/91 [==============================] - 0s 4ms/step - loss: 0.3408 - auc_2: 0.7017 - val_loss: 0.3563 - val_auc_2: 0.6602\n",
            "Epoch 29/150\n",
            "91/91 [==============================] - 0s 4ms/step - loss: 0.3432 - auc_2: 0.6938 - val_loss: 0.3482 - val_auc_2: 0.6777\n",
            "Epoch 30/150\n",
            "91/91 [==============================] - 0s 4ms/step - loss: 0.3436 - auc_2: 0.6944 - val_loss: 0.3456 - val_auc_2: 0.6727\n",
            "Epoch 31/150\n",
            "91/91 [==============================] - 0s 4ms/step - loss: 0.3371 - auc_2: 0.7176 - val_loss: 0.3489 - val_auc_2: 0.6726\n",
            "Epoch 32/150\n",
            "91/91 [==============================] - 0s 4ms/step - loss: 0.3423 - auc_2: 0.6996 - val_loss: 0.3499 - val_auc_2: 0.6779\n",
            "Epoch 33/150\n",
            "91/91 [==============================] - 0s 4ms/step - loss: 0.3377 - auc_2: 0.7133 - val_loss: 0.3501 - val_auc_2: 0.6875\n",
            "Epoch 34/150\n",
            "91/91 [==============================] - 0s 4ms/step - loss: 0.3365 - auc_2: 0.7127 - val_loss: 0.3446 - val_auc_2: 0.6760\n",
            "Epoch 35/150\n",
            "91/91 [==============================] - 0s 4ms/step - loss: 0.3412 - auc_2: 0.6974 - val_loss: 0.3429 - val_auc_2: 0.6880\n",
            "Epoch 36/150\n",
            "91/91 [==============================] - 0s 4ms/step - loss: 0.3388 - auc_2: 0.7109 - val_loss: 0.3441 - val_auc_2: 0.6819\n",
            "Epoch 37/150\n",
            "91/91 [==============================] - 0s 4ms/step - loss: 0.3383 - auc_2: 0.7084 - val_loss: 0.3487 - val_auc_2: 0.6716\n",
            "Epoch 38/150\n",
            "91/91 [==============================] - 0s 4ms/step - loss: 0.3367 - auc_2: 0.7124 - val_loss: 0.3505 - val_auc_2: 0.6857\n",
            "Epoch 39/150\n",
            "91/91 [==============================] - 0s 4ms/step - loss: 0.3346 - auc_2: 0.7163 - val_loss: 0.3511 - val_auc_2: 0.6882\n",
            "Epoch 40/150\n",
            "91/91 [==============================] - 0s 4ms/step - loss: 0.3320 - auc_2: 0.7287 - val_loss: 0.3435 - val_auc_2: 0.6790\n",
            "Epoch 41/150\n",
            "91/91 [==============================] - 0s 4ms/step - loss: 0.3358 - auc_2: 0.7179 - val_loss: 0.3538 - val_auc_2: 0.6800\n",
            "Epoch 42/150\n",
            "91/91 [==============================] - 0s 5ms/step - loss: 0.3316 - auc_2: 0.7247 - val_loss: 0.3446 - val_auc_2: 0.6939\n",
            "Epoch 43/150\n",
            "91/91 [==============================] - 0s 4ms/step - loss: 0.3369 - auc_2: 0.7117 - val_loss: 0.3425 - val_auc_2: 0.6863\n",
            "Epoch 44/150\n",
            "91/91 [==============================] - 0s 4ms/step - loss: 0.3261 - auc_2: 0.7418 - val_loss: 0.3453 - val_auc_2: 0.6943\n",
            "Epoch 45/150\n",
            "91/91 [==============================] - 0s 4ms/step - loss: 0.3303 - auc_2: 0.7281 - val_loss: 0.3432 - val_auc_2: 0.6816\n",
            "Epoch 46/150\n",
            "91/91 [==============================] - 0s 4ms/step - loss: 0.3265 - auc_2: 0.7373 - val_loss: 0.3439 - val_auc_2: 0.6884\n",
            "Epoch 47/150\n",
            "91/91 [==============================] - 0s 4ms/step - loss: 0.3301 - auc_2: 0.7292 - val_loss: 0.3448 - val_auc_2: 0.6890\n",
            "Epoch 48/150\n",
            "91/91 [==============================] - 0s 4ms/step - loss: 0.3331 - auc_2: 0.7266 - val_loss: 0.3460 - val_auc_2: 0.6823\n",
            "Epoch 49/150\n",
            "91/91 [==============================] - 0s 4ms/step - loss: 0.3254 - auc_2: 0.7394 - val_loss: 0.3453 - val_auc_2: 0.6789\n",
            "Epoch 50/150\n",
            "91/91 [==============================] - 0s 4ms/step - loss: 0.3250 - auc_2: 0.7424 - val_loss: 0.3433 - val_auc_2: 0.6911\n",
            "Epoch 51/150\n",
            "91/91 [==============================] - 0s 4ms/step - loss: 0.3231 - auc_2: 0.7429 - val_loss: 0.3389 - val_auc_2: 0.6973\n",
            "Epoch 52/150\n",
            "91/91 [==============================] - 0s 4ms/step - loss: 0.3263 - auc_2: 0.7357 - val_loss: 0.3432 - val_auc_2: 0.6851\n",
            "Epoch 53/150\n",
            "91/91 [==============================] - 0s 4ms/step - loss: 0.3228 - auc_2: 0.7474 - val_loss: 0.3466 - val_auc_2: 0.6891\n",
            "Epoch 54/150\n",
            "91/91 [==============================] - 0s 4ms/step - loss: 0.3217 - auc_2: 0.7537 - val_loss: 0.3413 - val_auc_2: 0.6907\n",
            "Epoch 55/150\n",
            "91/91 [==============================] - 0s 4ms/step - loss: 0.3214 - auc_2: 0.7477 - val_loss: 0.3391 - val_auc_2: 0.6993\n",
            "Epoch 56/150\n",
            "91/91 [==============================] - 0s 4ms/step - loss: 0.3179 - auc_2: 0.7568 - val_loss: 0.3376 - val_auc_2: 0.7046\n",
            "Epoch 57/150\n",
            "91/91 [==============================] - 0s 4ms/step - loss: 0.3164 - auc_2: 0.7636 - val_loss: 0.3460 - val_auc_2: 0.6844\n",
            "Epoch 58/150\n",
            "91/91 [==============================] - 0s 4ms/step - loss: 0.3227 - auc_2: 0.7450 - val_loss: 0.3386 - val_auc_2: 0.7027\n",
            "Epoch 59/150\n",
            "91/91 [==============================] - 0s 4ms/step - loss: 0.3217 - auc_2: 0.7492 - val_loss: 0.3411 - val_auc_2: 0.6954\n",
            "Epoch 60/150\n",
            "91/91 [==============================] - 0s 4ms/step - loss: 0.3157 - auc_2: 0.7649 - val_loss: 0.3420 - val_auc_2: 0.6965\n",
            "Epoch 61/150\n",
            "91/91 [==============================] - 0s 4ms/step - loss: 0.3183 - auc_2: 0.7574 - val_loss: 0.3472 - val_auc_2: 0.6924\n",
            "Epoch 62/150\n",
            "91/91 [==============================] - 0s 4ms/step - loss: 0.3117 - auc_2: 0.7707 - val_loss: 0.3413 - val_auc_2: 0.6901\n",
            "Epoch 63/150\n",
            "91/91 [==============================] - 0s 4ms/step - loss: 0.3172 - auc_2: 0.7579 - val_loss: 0.3425 - val_auc_2: 0.6908\n",
            "Epoch 64/150\n",
            "91/91 [==============================] - 0s 4ms/step - loss: 0.3099 - auc_2: 0.7715 - val_loss: 0.3433 - val_auc_2: 0.6938\n",
            "Epoch 65/150\n",
            "91/91 [==============================] - 0s 4ms/step - loss: 0.3133 - auc_2: 0.7681 - val_loss: 0.3475 - val_auc_2: 0.6962\n",
            "Epoch 66/150\n",
            "91/91 [==============================] - 0s 4ms/step - loss: 0.3109 - auc_2: 0.7716 - val_loss: 0.3455 - val_auc_2: 0.6947\n",
            "Epoch 67/150\n",
            "91/91 [==============================] - 0s 4ms/step - loss: 0.3101 - auc_2: 0.7771 - val_loss: 0.3454 - val_auc_2: 0.7024\n",
            "Epoch 68/150\n",
            "91/91 [==============================] - 0s 4ms/step - loss: 0.3118 - auc_2: 0.7678 - val_loss: 0.3406 - val_auc_2: 0.7012\n",
            "Epoch 69/150\n",
            "91/91 [==============================] - 0s 4ms/step - loss: 0.3073 - auc_2: 0.7788 - val_loss: 0.3447 - val_auc_2: 0.7014\n",
            "Epoch 70/150\n",
            "91/91 [==============================] - 0s 4ms/step - loss: 0.3089 - auc_2: 0.7770 - val_loss: 0.3529 - val_auc_2: 0.6977\n",
            "Epoch 71/150\n",
            "91/91 [==============================] - 0s 5ms/step - loss: 0.3071 - auc_2: 0.7826 - val_loss: 0.3561 - val_auc_2: 0.7074\n",
            "Epoch 72/150\n",
            "91/91 [==============================] - 0s 4ms/step - loss: 0.3027 - auc_2: 0.7890 - val_loss: 0.3481 - val_auc_2: 0.7039\n",
            "Epoch 73/150\n",
            "91/91 [==============================] - 0s 4ms/step - loss: 0.3014 - auc_2: 0.7945 - val_loss: 0.3434 - val_auc_2: 0.7150\n",
            "Epoch 74/150\n",
            "91/91 [==============================] - 0s 4ms/step - loss: 0.3049 - auc_2: 0.7893 - val_loss: 0.3469 - val_auc_2: 0.7053\n",
            "Epoch 75/150\n",
            "91/91 [==============================] - 0s 4ms/step - loss: 0.3008 - auc_2: 0.7906 - val_loss: 0.3431 - val_auc_2: 0.7007\n",
            "Epoch 76/150\n",
            "91/91 [==============================] - 0s 4ms/step - loss: 0.3027 - auc_2: 0.7845 - val_loss: 0.3395 - val_auc_2: 0.7058\n",
            "Epoch 77/150\n",
            "91/91 [==============================] - 0s 4ms/step - loss: 0.3057 - auc_2: 0.7796 - val_loss: 0.3408 - val_auc_2: 0.7084\n",
            "Epoch 78/150\n",
            "91/91 [==============================] - 0s 4ms/step - loss: 0.2981 - auc_2: 0.7881 - val_loss: 0.3522 - val_auc_2: 0.7059\n",
            "Epoch 79/150\n",
            "91/91 [==============================] - 0s 4ms/step - loss: 0.3051 - auc_2: 0.7849 - val_loss: 0.3419 - val_auc_2: 0.7015\n",
            "Epoch 80/150\n",
            "91/91 [==============================] - 0s 4ms/step - loss: 0.2966 - auc_2: 0.8020 - val_loss: 0.3406 - val_auc_2: 0.7064\n",
            "Epoch 81/150\n",
            "91/91 [==============================] - 0s 4ms/step - loss: 0.2951 - auc_2: 0.8017 - val_loss: 0.3431 - val_auc_2: 0.7058\n",
            "Epoch 82/150\n",
            "91/91 [==============================] - 0s 4ms/step - loss: 0.2947 - auc_2: 0.8026 - val_loss: 0.3401 - val_auc_2: 0.7114\n",
            "Epoch 83/150\n",
            "91/91 [==============================] - 0s 4ms/step - loss: 0.2973 - auc_2: 0.7956 - val_loss: 0.3559 - val_auc_2: 0.7065\n",
            "Epoch 84/150\n",
            "91/91 [==============================] - 0s 4ms/step - loss: 0.2983 - auc_2: 0.7942 - val_loss: 0.3434 - val_auc_2: 0.7035\n",
            "Epoch 85/150\n",
            "91/91 [==============================] - 0s 4ms/step - loss: 0.2974 - auc_2: 0.7954 - val_loss: 0.3394 - val_auc_2: 0.7094\n",
            "Epoch 86/150\n",
            "91/91 [==============================] - 0s 4ms/step - loss: 0.2951 - auc_2: 0.8047 - val_loss: 0.3390 - val_auc_2: 0.7121\n",
            "Epoch 87/150\n",
            "91/91 [==============================] - 0s 4ms/step - loss: 0.2910 - auc_2: 0.8034 - val_loss: 0.3534 - val_auc_2: 0.7049\n",
            "Epoch 88/150\n",
            "91/91 [==============================] - 0s 4ms/step - loss: 0.2957 - auc_2: 0.7998 - val_loss: 0.3398 - val_auc_2: 0.7139\n",
            "Epoch 89/150\n",
            "91/91 [==============================] - 0s 4ms/step - loss: 0.2867 - auc_2: 0.8158 - val_loss: 0.3515 - val_auc_2: 0.7077\n",
            "Epoch 90/150\n",
            "91/91 [==============================] - 0s 4ms/step - loss: 0.2886 - auc_2: 0.8133 - val_loss: 0.3700 - val_auc_2: 0.7075\n",
            "Epoch 91/150\n",
            "91/91 [==============================] - 0s 4ms/step - loss: 0.2878 - auc_2: 0.8143 - val_loss: 0.3408 - val_auc_2: 0.7091\n",
            "Epoch 92/150\n",
            "91/91 [==============================] - 0s 4ms/step - loss: 0.2861 - auc_2: 0.8245 - val_loss: 0.3549 - val_auc_2: 0.7082\n",
            "Epoch 93/150\n",
            "91/91 [==============================] - 0s 4ms/step - loss: 0.2861 - auc_2: 0.8160 - val_loss: 0.3441 - val_auc_2: 0.7136\n",
            "Epoch 94/150\n",
            "91/91 [==============================] - 0s 4ms/step - loss: 0.2907 - auc_2: 0.8085 - val_loss: 0.3410 - val_auc_2: 0.7036\n",
            "Epoch 95/150\n",
            "91/91 [==============================] - 0s 4ms/step - loss: 0.2892 - auc_2: 0.8141 - val_loss: 0.3571 - val_auc_2: 0.7075\n",
            "Epoch 96/150\n",
            "91/91 [==============================] - 0s 4ms/step - loss: 0.2892 - auc_2: 0.8119 - val_loss: 0.3483 - val_auc_2: 0.7032\n",
            "Epoch 97/150\n",
            "91/91 [==============================] - 0s 4ms/step - loss: 0.2810 - auc_2: 0.8279 - val_loss: 0.3424 - val_auc_2: 0.7167\n",
            "Epoch 98/150\n",
            "91/91 [==============================] - 0s 4ms/step - loss: 0.2851 - auc_2: 0.8176 - val_loss: 0.3413 - val_auc_2: 0.7178\n",
            "Epoch 99/150\n",
            "91/91 [==============================] - 0s 4ms/step - loss: 0.2806 - auc_2: 0.8278 - val_loss: 0.3435 - val_auc_2: 0.7040\n",
            "Epoch 100/150\n",
            "91/91 [==============================] - 0s 4ms/step - loss: 0.2756 - auc_2: 0.8327 - val_loss: 0.3394 - val_auc_2: 0.7203\n",
            "Epoch 101/150\n",
            "91/91 [==============================] - 0s 4ms/step - loss: 0.2780 - auc_2: 0.8292 - val_loss: 0.3463 - val_auc_2: 0.7046\n",
            "Epoch 102/150\n",
            "91/91 [==============================] - 0s 4ms/step - loss: 0.2790 - auc_2: 0.8271 - val_loss: 0.3373 - val_auc_2: 0.7215\n",
            "Epoch 103/150\n",
            "91/91 [==============================] - 0s 4ms/step - loss: 0.2763 - auc_2: 0.8279 - val_loss: 0.3367 - val_auc_2: 0.7252\n",
            "Epoch 104/150\n",
            "91/91 [==============================] - 0s 4ms/step - loss: 0.2714 - auc_2: 0.8390 - val_loss: 0.3406 - val_auc_2: 0.7244\n",
            "Epoch 105/150\n",
            "91/91 [==============================] - 0s 4ms/step - loss: 0.2756 - auc_2: 0.8341 - val_loss: 0.3467 - val_auc_2: 0.7155\n",
            "Epoch 106/150\n",
            "91/91 [==============================] - 0s 4ms/step - loss: 0.2764 - auc_2: 0.8317 - val_loss: 0.3456 - val_auc_2: 0.7169\n",
            "Epoch 107/150\n",
            "91/91 [==============================] - 0s 4ms/step - loss: 0.2703 - auc_2: 0.8425 - val_loss: 0.3409 - val_auc_2: 0.7232\n",
            "Epoch 108/150\n",
            "91/91 [==============================] - 0s 4ms/step - loss: 0.2701 - auc_2: 0.8388 - val_loss: 0.3483 - val_auc_2: 0.7177\n",
            "Epoch 109/150\n",
            "91/91 [==============================] - 0s 4ms/step - loss: 0.2726 - auc_2: 0.8387 - val_loss: 0.3508 - val_auc_2: 0.7295\n",
            "Epoch 110/150\n",
            "91/91 [==============================] - 0s 4ms/step - loss: 0.2753 - auc_2: 0.8295 - val_loss: 0.3380 - val_auc_2: 0.7205\n",
            "Epoch 111/150\n",
            "91/91 [==============================] - 0s 4ms/step - loss: 0.2652 - auc_2: 0.8456 - val_loss: 0.3441 - val_auc_2: 0.7199\n",
            "Epoch 112/150\n",
            "91/91 [==============================] - 0s 4ms/step - loss: 0.2665 - auc_2: 0.8440 - val_loss: 0.3461 - val_auc_2: 0.7161\n",
            "Epoch 113/150\n",
            "91/91 [==============================] - 0s 4ms/step - loss: 0.2657 - auc_2: 0.8460 - val_loss: 0.3376 - val_auc_2: 0.7278\n",
            "Epoch 114/150\n",
            "91/91 [==============================] - 0s 4ms/step - loss: 0.2635 - auc_2: 0.8485 - val_loss: 0.3515 - val_auc_2: 0.7148\n",
            "Epoch 115/150\n",
            "91/91 [==============================] - 0s 4ms/step - loss: 0.2639 - auc_2: 0.8517 - val_loss: 0.3518 - val_auc_2: 0.7165\n",
            "Epoch 116/150\n",
            "91/91 [==============================] - 0s 4ms/step - loss: 0.2605 - auc_2: 0.8539 - val_loss: 0.3428 - val_auc_2: 0.7263\n",
            "Epoch 117/150\n",
            "91/91 [==============================] - 0s 4ms/step - loss: 0.2633 - auc_2: 0.8509 - val_loss: 0.3463 - val_auc_2: 0.7311\n",
            "Epoch 118/150\n",
            "91/91 [==============================] - 0s 4ms/step - loss: 0.2620 - auc_2: 0.8500 - val_loss: 0.3400 - val_auc_2: 0.7300\n",
            "Epoch 119/150\n",
            "91/91 [==============================] - 0s 5ms/step - loss: 0.2620 - auc_2: 0.8518 - val_loss: 0.3524 - val_auc_2: 0.7247\n",
            "Epoch 120/150\n",
            "91/91 [==============================] - 0s 4ms/step - loss: 0.2613 - auc_2: 0.8542 - val_loss: 0.3758 - val_auc_2: 0.7095\n",
            "Epoch 121/150\n",
            "91/91 [==============================] - 0s 4ms/step - loss: 0.2523 - auc_2: 0.8626 - val_loss: 0.3472 - val_auc_2: 0.7260\n",
            "Epoch 122/150\n",
            "91/91 [==============================] - 0s 4ms/step - loss: 0.2540 - auc_2: 0.8616 - val_loss: 0.3520 - val_auc_2: 0.7153\n",
            "Epoch 123/150\n",
            "91/91 [==============================] - 0s 4ms/step - loss: 0.2516 - auc_2: 0.8649 - val_loss: 0.3438 - val_auc_2: 0.7268\n",
            "Epoch 124/150\n",
            "91/91 [==============================] - 0s 4ms/step - loss: 0.2524 - auc_2: 0.8638 - val_loss: 0.3473 - val_auc_2: 0.7263\n",
            "Epoch 125/150\n",
            "91/91 [==============================] - 0s 4ms/step - loss: 0.2598 - auc_2: 0.8577 - val_loss: 0.3535 - val_auc_2: 0.7284\n",
            "Epoch 126/150\n",
            "91/91 [==============================] - 0s 4ms/step - loss: 0.2567 - auc_2: 0.8621 - val_loss: 0.3615 - val_auc_2: 0.7159\n",
            "Epoch 127/150\n",
            "91/91 [==============================] - 0s 5ms/step - loss: 0.2508 - auc_2: 0.8695 - val_loss: 0.3618 - val_auc_2: 0.7139\n",
            "Epoch 128/150\n",
            "91/91 [==============================] - 0s 5ms/step - loss: 0.2432 - auc_2: 0.8781 - val_loss: 0.3427 - val_auc_2: 0.7334\n",
            "Epoch 129/150\n",
            "91/91 [==============================] - 0s 5ms/step - loss: 0.2436 - auc_2: 0.8773 - val_loss: 0.3551 - val_auc_2: 0.7204\n",
            "Epoch 130/150\n",
            "91/91 [==============================] - 0s 5ms/step - loss: 0.2497 - auc_2: 0.8708 - val_loss: 0.3457 - val_auc_2: 0.7261\n",
            "Epoch 131/150\n",
            "91/91 [==============================] - 0s 5ms/step - loss: 0.2475 - auc_2: 0.8694 - val_loss: 0.3506 - val_auc_2: 0.7213\n",
            "Epoch 132/150\n",
            "91/91 [==============================] - 0s 4ms/step - loss: 0.2447 - auc_2: 0.8729 - val_loss: 0.3468 - val_auc_2: 0.7195\n",
            "Epoch 133/150\n",
            "91/91 [==============================] - 0s 4ms/step - loss: 0.2443 - auc_2: 0.8763 - val_loss: 0.3460 - val_auc_2: 0.7300\n",
            "Epoch 134/150\n",
            "91/91 [==============================] - 0s 4ms/step - loss: 0.2400 - auc_2: 0.8759 - val_loss: 0.3623 - val_auc_2: 0.7256\n",
            "Epoch 135/150\n",
            "91/91 [==============================] - 0s 4ms/step - loss: 0.2418 - auc_2: 0.8769 - val_loss: 0.3523 - val_auc_2: 0.7188\n",
            "Epoch 136/150\n",
            "91/91 [==============================] - 0s 4ms/step - loss: 0.2403 - auc_2: 0.8767 - val_loss: 0.3504 - val_auc_2: 0.7372\n",
            "Epoch 137/150\n",
            "91/91 [==============================] - 0s 4ms/step - loss: 0.2392 - auc_2: 0.8797 - val_loss: 0.3652 - val_auc_2: 0.7319\n",
            "Epoch 138/150\n",
            "91/91 [==============================] - 0s 4ms/step - loss: 0.2448 - auc_2: 0.8722 - val_loss: 0.3482 - val_auc_2: 0.7393\n",
            "Epoch 139/150\n",
            "91/91 [==============================] - 0s 4ms/step - loss: 0.2415 - auc_2: 0.8756 - val_loss: 0.3677 - val_auc_2: 0.7308\n",
            "Epoch 140/150\n",
            "91/91 [==============================] - 0s 4ms/step - loss: 0.2393 - auc_2: 0.8859 - val_loss: 0.3461 - val_auc_2: 0.7352\n",
            "Epoch 141/150\n",
            "91/91 [==============================] - 0s 4ms/step - loss: 0.2374 - auc_2: 0.8829 - val_loss: 0.3546 - val_auc_2: 0.7210\n",
            "Epoch 142/150\n",
            "91/91 [==============================] - 0s 4ms/step - loss: 0.2360 - auc_2: 0.8836 - val_loss: 0.3502 - val_auc_2: 0.7254\n",
            "Epoch 143/150\n",
            "91/91 [==============================] - 0s 4ms/step - loss: 0.2399 - auc_2: 0.8762 - val_loss: 0.3492 - val_auc_2: 0.7317\n",
            "Epoch 144/150\n",
            "91/91 [==============================] - 0s 4ms/step - loss: 0.2356 - auc_2: 0.8855 - val_loss: 0.3521 - val_auc_2: 0.7288\n",
            "Epoch 145/150\n",
            "91/91 [==============================] - 0s 4ms/step - loss: 0.2276 - auc_2: 0.8939 - val_loss: 0.3528 - val_auc_2: 0.7430\n",
            "Epoch 146/150\n",
            "91/91 [==============================] - 0s 4ms/step - loss: 0.2290 - auc_2: 0.8912 - val_loss: 0.3566 - val_auc_2: 0.7329\n",
            "Epoch 147/150\n",
            "91/91 [==============================] - 0s 4ms/step - loss: 0.2263 - auc_2: 0.8940 - val_loss: 0.3535 - val_auc_2: 0.7414\n",
            "Epoch 148/150\n",
            "91/91 [==============================] - 0s 4ms/step - loss: 0.2284 - auc_2: 0.8901 - val_loss: 0.3756 - val_auc_2: 0.7280\n",
            "Epoch 149/150\n",
            "91/91 [==============================] - 0s 4ms/step - loss: 0.2229 - auc_2: 0.8977 - val_loss: 0.3602 - val_auc_2: 0.7453\n",
            "Epoch 150/150\n",
            "91/91 [==============================] - 0s 4ms/step - loss: 0.2231 - auc_2: 0.8969 - val_loss: 0.3575 - val_auc_2: 0.7297\n",
            "dict_keys(['loss', 'auc_2', 'val_loss', 'val_auc_2'])\n"
          ]
        },
        {
          "output_type": "display_data",
          "data": {
            "text/plain": [
              "<Figure size 432x288 with 1 Axes>"
            ],
            "image/png": "[encoded data removed]"
          },
          "metadata": {
            "needs_background": "light"
          }
        },
        {
          "output_type": "display_data",
          "data": {
            "text/plain": [
              "<Figure size 432x288 with 1 Axes>"
            ],
            "image/png": "[encoded data removed]"
          },
          "metadata": {
            "needs_background": "light"
          }
        }
      ]
    },
    {
      "cell_type": "code",
      "source": [
        ""
      ],
      "metadata": {
        "id": "JvxJ6zlASDx-"
      },
      "execution_count": null,
      "outputs": []
    }
  ],
  "metadata": {
    "accelerator": "GPU",
    "colab": {
      "collapsed_sections": [],
      "machine_shape": "hm",
      "name": "proposed_sequential_train_and_eval.ipynb",
      "provenance": []
    },
    "kernelspec": {
      "display_name": "Python 3",
      "name": "python3"
    },
    "language_info": {
      "name": "python"
    }
  },
  "nbformat": 4,
  "nbformat_minor": 0
}
